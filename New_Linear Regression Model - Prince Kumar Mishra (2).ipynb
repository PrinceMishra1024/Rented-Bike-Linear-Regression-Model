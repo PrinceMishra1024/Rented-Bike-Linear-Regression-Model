{
 "cells": [
  {
   "cell_type": "markdown",
   "metadata": {},
   "source": [
    "# Linear Regression Model"
   ]
  },
  {
   "cell_type": "markdown",
   "metadata": {
    "id": "AsfrcvhLMZ8q"
   },
   "source": [
    "## **Importing Necessary Libraries**"
   ]
  },
  {
   "cell_type": "code",
   "execution_count": 1,
   "metadata": {
    "id": "zz90Z5wLK91p"
   },
   "outputs": [],
   "source": [
    "# For analysis and numerical functions\n",
    "import numpy as np\n",
    "import pandas as pd\n",
    "\n",
    "# For Vizualization\n",
    "import matplotlib.pyplot as plt\n",
    "import seaborn as sns\n",
    "\n",
    "# Extra\n",
    "import warnings\n",
    "warnings.filterwarnings(action='ignore')"
   ]
  },
  {
   "cell_type": "markdown",
   "metadata": {
    "id": "g2XnsMhDPT9e"
   },
   "source": [
    "## **Dataset Loading**"
   ]
  },
  {
   "cell_type": "code",
   "execution_count": 2,
   "metadata": {
    "id": "8ovJg7QPOPpo"
   },
   "outputs": [],
   "source": [
    "# Read the csv file using pandas\n",
    "df = pd.read_csv('day.csv')"
   ]
  },
  {
   "cell_type": "code",
   "execution_count": 3,
   "metadata": {
    "colab": {
     "base_uri": "https://localhost:8080/",
     "height": 206
    },
    "id": "4P0pgQxxOmK0",
    "outputId": "e673453e-a12b-453b-bdc1-9bdf0841bbb9"
   },
   "outputs": [
    {
     "data": {
      "text/html": [
       "<div>\n",
       "<style scoped>\n",
       "    .dataframe tbody tr th:only-of-type {\n",
       "        vertical-align: middle;\n",
       "    }\n",
       "\n",
       "    .dataframe tbody tr th {\n",
       "        vertical-align: top;\n",
       "    }\n",
       "\n",
       "    .dataframe thead th {\n",
       "        text-align: right;\n",
       "    }\n",
       "</style>\n",
       "<table border=\"1\" class=\"dataframe\">\n",
       "  <thead>\n",
       "    <tr style=\"text-align: right;\">\n",
       "      <th></th>\n",
       "      <th>instant</th>\n",
       "      <th>dteday</th>\n",
       "      <th>season</th>\n",
       "      <th>yr</th>\n",
       "      <th>mnth</th>\n",
       "      <th>holiday</th>\n",
       "      <th>weekday</th>\n",
       "      <th>workingday</th>\n",
       "      <th>weathersit</th>\n",
       "      <th>temp</th>\n",
       "      <th>atemp</th>\n",
       "      <th>hum</th>\n",
       "      <th>windspeed</th>\n",
       "      <th>casual</th>\n",
       "      <th>registered</th>\n",
       "      <th>cnt</th>\n",
       "    </tr>\n",
       "  </thead>\n",
       "  <tbody>\n",
       "    <tr>\n",
       "      <th>0</th>\n",
       "      <td>1</td>\n",
       "      <td>01-01-2018</td>\n",
       "      <td>1</td>\n",
       "      <td>0</td>\n",
       "      <td>1</td>\n",
       "      <td>0</td>\n",
       "      <td>6</td>\n",
       "      <td>0</td>\n",
       "      <td>2</td>\n",
       "      <td>14.110847</td>\n",
       "      <td>18.18125</td>\n",
       "      <td>80.5833</td>\n",
       "      <td>10.749882</td>\n",
       "      <td>331</td>\n",
       "      <td>654</td>\n",
       "      <td>985</td>\n",
       "    </tr>\n",
       "    <tr>\n",
       "      <th>1</th>\n",
       "      <td>2</td>\n",
       "      <td>02-01-2018</td>\n",
       "      <td>1</td>\n",
       "      <td>0</td>\n",
       "      <td>1</td>\n",
       "      <td>0</td>\n",
       "      <td>0</td>\n",
       "      <td>0</td>\n",
       "      <td>2</td>\n",
       "      <td>14.902598</td>\n",
       "      <td>17.68695</td>\n",
       "      <td>69.6087</td>\n",
       "      <td>16.652113</td>\n",
       "      <td>131</td>\n",
       "      <td>670</td>\n",
       "      <td>801</td>\n",
       "    </tr>\n",
       "    <tr>\n",
       "      <th>2</th>\n",
       "      <td>3</td>\n",
       "      <td>03-01-2018</td>\n",
       "      <td>1</td>\n",
       "      <td>0</td>\n",
       "      <td>1</td>\n",
       "      <td>0</td>\n",
       "      <td>1</td>\n",
       "      <td>1</td>\n",
       "      <td>1</td>\n",
       "      <td>8.050924</td>\n",
       "      <td>9.47025</td>\n",
       "      <td>43.7273</td>\n",
       "      <td>16.636703</td>\n",
       "      <td>120</td>\n",
       "      <td>1229</td>\n",
       "      <td>1349</td>\n",
       "    </tr>\n",
       "    <tr>\n",
       "      <th>3</th>\n",
       "      <td>4</td>\n",
       "      <td>04-01-2018</td>\n",
       "      <td>1</td>\n",
       "      <td>0</td>\n",
       "      <td>1</td>\n",
       "      <td>0</td>\n",
       "      <td>2</td>\n",
       "      <td>1</td>\n",
       "      <td>1</td>\n",
       "      <td>8.200000</td>\n",
       "      <td>10.60610</td>\n",
       "      <td>59.0435</td>\n",
       "      <td>10.739832</td>\n",
       "      <td>108</td>\n",
       "      <td>1454</td>\n",
       "      <td>1562</td>\n",
       "    </tr>\n",
       "    <tr>\n",
       "      <th>4</th>\n",
       "      <td>5</td>\n",
       "      <td>05-01-2018</td>\n",
       "      <td>1</td>\n",
       "      <td>0</td>\n",
       "      <td>1</td>\n",
       "      <td>0</td>\n",
       "      <td>3</td>\n",
       "      <td>1</td>\n",
       "      <td>1</td>\n",
       "      <td>9.305237</td>\n",
       "      <td>11.46350</td>\n",
       "      <td>43.6957</td>\n",
       "      <td>12.522300</td>\n",
       "      <td>82</td>\n",
       "      <td>1518</td>\n",
       "      <td>1600</td>\n",
       "    </tr>\n",
       "  </tbody>\n",
       "</table>\n",
       "</div>"
      ],
      "text/plain": [
       "   instant      dteday  season  yr  mnth  holiday  weekday  workingday  \\\n",
       "0        1  01-01-2018       1   0     1        0        6           0   \n",
       "1        2  02-01-2018       1   0     1        0        0           0   \n",
       "2        3  03-01-2018       1   0     1        0        1           1   \n",
       "3        4  04-01-2018       1   0     1        0        2           1   \n",
       "4        5  05-01-2018       1   0     1        0        3           1   \n",
       "\n",
       "   weathersit       temp     atemp      hum  windspeed  casual  registered  \\\n",
       "0           2  14.110847  18.18125  80.5833  10.749882     331         654   \n",
       "1           2  14.902598  17.68695  69.6087  16.652113     131         670   \n",
       "2           1   8.050924   9.47025  43.7273  16.636703     120        1229   \n",
       "3           1   8.200000  10.60610  59.0435  10.739832     108        1454   \n",
       "4           1   9.305237  11.46350  43.6957  12.522300      82        1518   \n",
       "\n",
       "    cnt  \n",
       "0   985  \n",
       "1   801  \n",
       "2  1349  \n",
       "3  1562  \n",
       "4  1600  "
      ]
     },
     "execution_count": 3,
     "metadata": {},
     "output_type": "execute_result"
    }
   ],
   "source": [
    "# Reading the Dataset\n",
    "df.head()"
   ]
  },
  {
   "cell_type": "markdown",
   "metadata": {
    "id": "a9uanJxDg0Sn"
   },
   "source": [
    "#### cnt is a target variable anmd rest columns are features"
   ]
  },
  {
   "cell_type": "markdown",
   "metadata": {
    "id": "8oqtqAEEP43V"
   },
   "source": [
    "## **Data Sanity Checks**"
   ]
  },
  {
   "cell_type": "code",
   "execution_count": 4,
   "metadata": {
    "colab": {
     "base_uri": "https://localhost:8080/"
    },
    "id": "vU3rpT3QOoVs",
    "outputId": "7998d9aa-cffe-4175-a5ed-fe3ba6c06bdf"
   },
   "outputs": [
    {
     "data": {
      "text/plain": [
       "(730, 16)"
      ]
     },
     "execution_count": 4,
     "metadata": {},
     "output_type": "execute_result"
    }
   ],
   "source": [
    "# Checking the total number of Rows and Columns.\n",
    "df.shape"
   ]
  },
  {
   "cell_type": "markdown",
   "metadata": {},
   "source": [
    "#### There are 730 rows and 16 columns in the data set. There are no null values in any of the columns."
   ]
  },
  {
   "cell_type": "code",
   "execution_count": 5,
   "metadata": {
    "colab": {
     "base_uri": "https://localhost:8080/"
    },
    "id": "XETvIe22Osr8",
    "outputId": "1c4c7753-640a-42ba-884e-39ded9d79858"
   },
   "outputs": [
    {
     "name": "stdout",
     "output_type": "stream",
     "text": [
      "<class 'pandas.core.frame.DataFrame'>\n",
      "RangeIndex: 730 entries, 0 to 729\n",
      "Data columns (total 16 columns):\n",
      " #   Column      Non-Null Count  Dtype  \n",
      "---  ------      --------------  -----  \n",
      " 0   instant     730 non-null    int64  \n",
      " 1   dteday      730 non-null    object \n",
      " 2   season      730 non-null    int64  \n",
      " 3   yr          730 non-null    int64  \n",
      " 4   mnth        730 non-null    int64  \n",
      " 5   holiday     730 non-null    int64  \n",
      " 6   weekday     730 non-null    int64  \n",
      " 7   workingday  730 non-null    int64  \n",
      " 8   weathersit  730 non-null    int64  \n",
      " 9   temp        730 non-null    float64\n",
      " 10  atemp       730 non-null    float64\n",
      " 11  hum         730 non-null    float64\n",
      " 12  windspeed   730 non-null    float64\n",
      " 13  casual      730 non-null    int64  \n",
      " 14  registered  730 non-null    int64  \n",
      " 15  cnt         730 non-null    int64  \n",
      "dtypes: float64(4), int64(11), object(1)\n",
      "memory usage: 91.4+ KB\n"
     ]
    }
   ],
   "source": [
    "# Checking the informations of datasets.\n",
    "df.info()"
   ]
  },
  {
   "cell_type": "markdown",
   "metadata": {
    "id": "ZgnDNHY_QG-l"
   },
   "source": [
    "## **Checking Statistical Describtion**"
   ]
  },
  {
   "cell_type": "code",
   "execution_count": 6,
   "metadata": {
    "colab": {
     "base_uri": "https://localhost:8080/",
     "height": 364
    },
    "id": "ihIYKemkOv6_",
    "outputId": "df0ae1b3-0af1-4cb2-e665-4825dbbfe898"
   },
   "outputs": [
    {
     "data": {
      "text/html": [
       "<div>\n",
       "<style scoped>\n",
       "    .dataframe tbody tr th:only-of-type {\n",
       "        vertical-align: middle;\n",
       "    }\n",
       "\n",
       "    .dataframe tbody tr th {\n",
       "        vertical-align: top;\n",
       "    }\n",
       "\n",
       "    .dataframe thead th {\n",
       "        text-align: right;\n",
       "    }\n",
       "</style>\n",
       "<table border=\"1\" class=\"dataframe\">\n",
       "  <thead>\n",
       "    <tr style=\"text-align: right;\">\n",
       "      <th></th>\n",
       "      <th>instant</th>\n",
       "      <th>season</th>\n",
       "      <th>yr</th>\n",
       "      <th>mnth</th>\n",
       "      <th>holiday</th>\n",
       "      <th>weekday</th>\n",
       "      <th>workingday</th>\n",
       "      <th>weathersit</th>\n",
       "      <th>temp</th>\n",
       "      <th>atemp</th>\n",
       "      <th>hum</th>\n",
       "      <th>windspeed</th>\n",
       "      <th>casual</th>\n",
       "      <th>registered</th>\n",
       "      <th>cnt</th>\n",
       "    </tr>\n",
       "  </thead>\n",
       "  <tbody>\n",
       "    <tr>\n",
       "      <th>count</th>\n",
       "      <td>730.000000</td>\n",
       "      <td>730.000000</td>\n",
       "      <td>730.000000</td>\n",
       "      <td>730.000000</td>\n",
       "      <td>730.000000</td>\n",
       "      <td>730.000000</td>\n",
       "      <td>730.000000</td>\n",
       "      <td>730.000000</td>\n",
       "      <td>730.000000</td>\n",
       "      <td>730.000000</td>\n",
       "      <td>730.000000</td>\n",
       "      <td>730.000000</td>\n",
       "      <td>730.000000</td>\n",
       "      <td>730.000000</td>\n",
       "      <td>730.000000</td>\n",
       "    </tr>\n",
       "    <tr>\n",
       "      <th>mean</th>\n",
       "      <td>365.500000</td>\n",
       "      <td>2.498630</td>\n",
       "      <td>0.500000</td>\n",
       "      <td>6.526027</td>\n",
       "      <td>0.028767</td>\n",
       "      <td>2.997260</td>\n",
       "      <td>0.683562</td>\n",
       "      <td>1.394521</td>\n",
       "      <td>20.319259</td>\n",
       "      <td>23.726322</td>\n",
       "      <td>62.765175</td>\n",
       "      <td>12.763620</td>\n",
       "      <td>849.249315</td>\n",
       "      <td>3658.757534</td>\n",
       "      <td>4508.006849</td>\n",
       "    </tr>\n",
       "    <tr>\n",
       "      <th>std</th>\n",
       "      <td>210.877136</td>\n",
       "      <td>1.110184</td>\n",
       "      <td>0.500343</td>\n",
       "      <td>3.450215</td>\n",
       "      <td>0.167266</td>\n",
       "      <td>2.006161</td>\n",
       "      <td>0.465405</td>\n",
       "      <td>0.544807</td>\n",
       "      <td>7.506729</td>\n",
       "      <td>8.150308</td>\n",
       "      <td>14.237589</td>\n",
       "      <td>5.195841</td>\n",
       "      <td>686.479875</td>\n",
       "      <td>1559.758728</td>\n",
       "      <td>1936.011647</td>\n",
       "    </tr>\n",
       "    <tr>\n",
       "      <th>min</th>\n",
       "      <td>1.000000</td>\n",
       "      <td>1.000000</td>\n",
       "      <td>0.000000</td>\n",
       "      <td>1.000000</td>\n",
       "      <td>0.000000</td>\n",
       "      <td>0.000000</td>\n",
       "      <td>0.000000</td>\n",
       "      <td>1.000000</td>\n",
       "      <td>2.424346</td>\n",
       "      <td>3.953480</td>\n",
       "      <td>0.000000</td>\n",
       "      <td>1.500244</td>\n",
       "      <td>2.000000</td>\n",
       "      <td>20.000000</td>\n",
       "      <td>22.000000</td>\n",
       "    </tr>\n",
       "    <tr>\n",
       "      <th>25%</th>\n",
       "      <td>183.250000</td>\n",
       "      <td>2.000000</td>\n",
       "      <td>0.000000</td>\n",
       "      <td>4.000000</td>\n",
       "      <td>0.000000</td>\n",
       "      <td>1.000000</td>\n",
       "      <td>0.000000</td>\n",
       "      <td>1.000000</td>\n",
       "      <td>13.811885</td>\n",
       "      <td>16.889713</td>\n",
       "      <td>52.000000</td>\n",
       "      <td>9.041650</td>\n",
       "      <td>316.250000</td>\n",
       "      <td>2502.250000</td>\n",
       "      <td>3169.750000</td>\n",
       "    </tr>\n",
       "    <tr>\n",
       "      <th>50%</th>\n",
       "      <td>365.500000</td>\n",
       "      <td>3.000000</td>\n",
       "      <td>0.500000</td>\n",
       "      <td>7.000000</td>\n",
       "      <td>0.000000</td>\n",
       "      <td>3.000000</td>\n",
       "      <td>1.000000</td>\n",
       "      <td>1.000000</td>\n",
       "      <td>20.465826</td>\n",
       "      <td>24.368225</td>\n",
       "      <td>62.625000</td>\n",
       "      <td>12.125325</td>\n",
       "      <td>717.000000</td>\n",
       "      <td>3664.500000</td>\n",
       "      <td>4548.500000</td>\n",
       "    </tr>\n",
       "    <tr>\n",
       "      <th>75%</th>\n",
       "      <td>547.750000</td>\n",
       "      <td>3.000000</td>\n",
       "      <td>1.000000</td>\n",
       "      <td>10.000000</td>\n",
       "      <td>0.000000</td>\n",
       "      <td>5.000000</td>\n",
       "      <td>1.000000</td>\n",
       "      <td>2.000000</td>\n",
       "      <td>26.880615</td>\n",
       "      <td>30.445775</td>\n",
       "      <td>72.989575</td>\n",
       "      <td>15.625589</td>\n",
       "      <td>1096.500000</td>\n",
       "      <td>4783.250000</td>\n",
       "      <td>5966.000000</td>\n",
       "    </tr>\n",
       "    <tr>\n",
       "      <th>max</th>\n",
       "      <td>730.000000</td>\n",
       "      <td>4.000000</td>\n",
       "      <td>1.000000</td>\n",
       "      <td>12.000000</td>\n",
       "      <td>1.000000</td>\n",
       "      <td>6.000000</td>\n",
       "      <td>1.000000</td>\n",
       "      <td>3.000000</td>\n",
       "      <td>35.328347</td>\n",
       "      <td>42.044800</td>\n",
       "      <td>97.250000</td>\n",
       "      <td>34.000021</td>\n",
       "      <td>3410.000000</td>\n",
       "      <td>6946.000000</td>\n",
       "      <td>8714.000000</td>\n",
       "    </tr>\n",
       "  </tbody>\n",
       "</table>\n",
       "</div>"
      ],
      "text/plain": [
       "          instant      season          yr        mnth     holiday     weekday  \\\n",
       "count  730.000000  730.000000  730.000000  730.000000  730.000000  730.000000   \n",
       "mean   365.500000    2.498630    0.500000    6.526027    0.028767    2.997260   \n",
       "std    210.877136    1.110184    0.500343    3.450215    0.167266    2.006161   \n",
       "min      1.000000    1.000000    0.000000    1.000000    0.000000    0.000000   \n",
       "25%    183.250000    2.000000    0.000000    4.000000    0.000000    1.000000   \n",
       "50%    365.500000    3.000000    0.500000    7.000000    0.000000    3.000000   \n",
       "75%    547.750000    3.000000    1.000000   10.000000    0.000000    5.000000   \n",
       "max    730.000000    4.000000    1.000000   12.000000    1.000000    6.000000   \n",
       "\n",
       "       workingday  weathersit        temp       atemp         hum   windspeed  \\\n",
       "count  730.000000  730.000000  730.000000  730.000000  730.000000  730.000000   \n",
       "mean     0.683562    1.394521   20.319259   23.726322   62.765175   12.763620   \n",
       "std      0.465405    0.544807    7.506729    8.150308   14.237589    5.195841   \n",
       "min      0.000000    1.000000    2.424346    3.953480    0.000000    1.500244   \n",
       "25%      0.000000    1.000000   13.811885   16.889713   52.000000    9.041650   \n",
       "50%      1.000000    1.000000   20.465826   24.368225   62.625000   12.125325   \n",
       "75%      1.000000    2.000000   26.880615   30.445775   72.989575   15.625589   \n",
       "max      1.000000    3.000000   35.328347   42.044800   97.250000   34.000021   \n",
       "\n",
       "            casual   registered          cnt  \n",
       "count   730.000000   730.000000   730.000000  \n",
       "mean    849.249315  3658.757534  4508.006849  \n",
       "std     686.479875  1559.758728  1936.011647  \n",
       "min       2.000000    20.000000    22.000000  \n",
       "25%     316.250000  2502.250000  3169.750000  \n",
       "50%     717.000000  3664.500000  4548.500000  \n",
       "75%    1096.500000  4783.250000  5966.000000  \n",
       "max    3410.000000  6946.000000  8714.000000  "
      ]
     },
     "execution_count": 6,
     "metadata": {},
     "output_type": "execute_result"
    }
   ],
   "source": [
    "# Checking the Statistical informations of the dataset.\n",
    "df.describe()"
   ]
  },
  {
   "cell_type": "markdown",
   "metadata": {},
   "source": [
    "# Cleaning Data"
   ]
  },
  {
   "cell_type": "markdown",
   "metadata": {
    "id": "MBB_LQispLOa"
   },
   "source": [
    "## **Drop those columns who are of no use for analysis**"
   ]
  },
  {
   "cell_type": "markdown",
   "metadata": {},
   "source": [
    "- `instant` is just a row instance identifier.\n",
    "- `dteday` is removed as we have some of date features like `mnth` and `year` and `weekday` already in other columns and also \n",
    "for this analysis we will not consider day to day trend in demand for bikes.\n",
    "- `casual` and `registered` variables are not available at the time of prediction and also these describe the target variable \n",
    "`cnt` in a very trivial way `target = casual + registered`, which leads to data leakage."
   ]
  },
  {
   "cell_type": "code",
   "execution_count": 7,
   "metadata": {
    "id": "UQO7J61FPL2h"
   },
   "outputs": [],
   "source": [
    "# Creating a list to drop no use columns at onces\n",
    "dropping_cols = ['instant','dteday','atemp','casual','registered']\n",
    "df.drop(dropping_cols, axis=1, inplace=True)"
   ]
  },
  {
   "cell_type": "markdown",
   "metadata": {
    "id": "Z7Ly8KbzsOAZ"
   },
   "source": [
    "#### Dropping casual column and registered column because it is given in problem statement that 'cnt' column is the combined of both the columns"
   ]
  },
  {
   "cell_type": "code",
   "execution_count": 8,
   "metadata": {
    "colab": {
     "base_uri": "https://localhost:8080/",
     "height": 424
    },
    "id": "YtgQd6ICov-v",
    "outputId": "edf5c230-9147-49c8-9941-af9e7fc76a13"
   },
   "outputs": [
    {
     "data": {
      "text/html": [
       "<div>\n",
       "<style scoped>\n",
       "    .dataframe tbody tr th:only-of-type {\n",
       "        vertical-align: middle;\n",
       "    }\n",
       "\n",
       "    .dataframe tbody tr th {\n",
       "        vertical-align: top;\n",
       "    }\n",
       "\n",
       "    .dataframe thead th {\n",
       "        text-align: right;\n",
       "    }\n",
       "</style>\n",
       "<table border=\"1\" class=\"dataframe\">\n",
       "  <thead>\n",
       "    <tr style=\"text-align: right;\">\n",
       "      <th></th>\n",
       "      <th>season</th>\n",
       "      <th>yr</th>\n",
       "      <th>mnth</th>\n",
       "      <th>holiday</th>\n",
       "      <th>weekday</th>\n",
       "      <th>workingday</th>\n",
       "      <th>weathersit</th>\n",
       "      <th>temp</th>\n",
       "      <th>hum</th>\n",
       "      <th>windspeed</th>\n",
       "      <th>cnt</th>\n",
       "    </tr>\n",
       "  </thead>\n",
       "  <tbody>\n",
       "    <tr>\n",
       "      <th>0</th>\n",
       "      <td>1</td>\n",
       "      <td>0</td>\n",
       "      <td>1</td>\n",
       "      <td>0</td>\n",
       "      <td>6</td>\n",
       "      <td>0</td>\n",
       "      <td>2</td>\n",
       "      <td>14.110847</td>\n",
       "      <td>80.5833</td>\n",
       "      <td>10.749882</td>\n",
       "      <td>985</td>\n",
       "    </tr>\n",
       "    <tr>\n",
       "      <th>1</th>\n",
       "      <td>1</td>\n",
       "      <td>0</td>\n",
       "      <td>1</td>\n",
       "      <td>0</td>\n",
       "      <td>0</td>\n",
       "      <td>0</td>\n",
       "      <td>2</td>\n",
       "      <td>14.902598</td>\n",
       "      <td>69.6087</td>\n",
       "      <td>16.652113</td>\n",
       "      <td>801</td>\n",
       "    </tr>\n",
       "    <tr>\n",
       "      <th>2</th>\n",
       "      <td>1</td>\n",
       "      <td>0</td>\n",
       "      <td>1</td>\n",
       "      <td>0</td>\n",
       "      <td>1</td>\n",
       "      <td>1</td>\n",
       "      <td>1</td>\n",
       "      <td>8.050924</td>\n",
       "      <td>43.7273</td>\n",
       "      <td>16.636703</td>\n",
       "      <td>1349</td>\n",
       "    </tr>\n",
       "    <tr>\n",
       "      <th>3</th>\n",
       "      <td>1</td>\n",
       "      <td>0</td>\n",
       "      <td>1</td>\n",
       "      <td>0</td>\n",
       "      <td>2</td>\n",
       "      <td>1</td>\n",
       "      <td>1</td>\n",
       "      <td>8.200000</td>\n",
       "      <td>59.0435</td>\n",
       "      <td>10.739832</td>\n",
       "      <td>1562</td>\n",
       "    </tr>\n",
       "    <tr>\n",
       "      <th>4</th>\n",
       "      <td>1</td>\n",
       "      <td>0</td>\n",
       "      <td>1</td>\n",
       "      <td>0</td>\n",
       "      <td>3</td>\n",
       "      <td>1</td>\n",
       "      <td>1</td>\n",
       "      <td>9.305237</td>\n",
       "      <td>43.6957</td>\n",
       "      <td>12.522300</td>\n",
       "      <td>1600</td>\n",
       "    </tr>\n",
       "    <tr>\n",
       "      <th>...</th>\n",
       "      <td>...</td>\n",
       "      <td>...</td>\n",
       "      <td>...</td>\n",
       "      <td>...</td>\n",
       "      <td>...</td>\n",
       "      <td>...</td>\n",
       "      <td>...</td>\n",
       "      <td>...</td>\n",
       "      <td>...</td>\n",
       "      <td>...</td>\n",
       "      <td>...</td>\n",
       "    </tr>\n",
       "    <tr>\n",
       "      <th>725</th>\n",
       "      <td>1</td>\n",
       "      <td>1</td>\n",
       "      <td>12</td>\n",
       "      <td>0</td>\n",
       "      <td>4</td>\n",
       "      <td>1</td>\n",
       "      <td>2</td>\n",
       "      <td>10.420847</td>\n",
       "      <td>65.2917</td>\n",
       "      <td>23.458911</td>\n",
       "      <td>2114</td>\n",
       "    </tr>\n",
       "    <tr>\n",
       "      <th>726</th>\n",
       "      <td>1</td>\n",
       "      <td>1</td>\n",
       "      <td>12</td>\n",
       "      <td>0</td>\n",
       "      <td>5</td>\n",
       "      <td>1</td>\n",
       "      <td>2</td>\n",
       "      <td>10.386653</td>\n",
       "      <td>59.0000</td>\n",
       "      <td>10.416557</td>\n",
       "      <td>3095</td>\n",
       "    </tr>\n",
       "    <tr>\n",
       "      <th>727</th>\n",
       "      <td>1</td>\n",
       "      <td>1</td>\n",
       "      <td>12</td>\n",
       "      <td>0</td>\n",
       "      <td>6</td>\n",
       "      <td>0</td>\n",
       "      <td>2</td>\n",
       "      <td>10.386653</td>\n",
       "      <td>75.2917</td>\n",
       "      <td>8.333661</td>\n",
       "      <td>1341</td>\n",
       "    </tr>\n",
       "    <tr>\n",
       "      <th>728</th>\n",
       "      <td>1</td>\n",
       "      <td>1</td>\n",
       "      <td>12</td>\n",
       "      <td>0</td>\n",
       "      <td>0</td>\n",
       "      <td>0</td>\n",
       "      <td>1</td>\n",
       "      <td>10.489153</td>\n",
       "      <td>48.3333</td>\n",
       "      <td>23.500518</td>\n",
       "      <td>1796</td>\n",
       "    </tr>\n",
       "    <tr>\n",
       "      <th>729</th>\n",
       "      <td>1</td>\n",
       "      <td>1</td>\n",
       "      <td>12</td>\n",
       "      <td>0</td>\n",
       "      <td>1</td>\n",
       "      <td>1</td>\n",
       "      <td>2</td>\n",
       "      <td>8.849153</td>\n",
       "      <td>57.7500</td>\n",
       "      <td>10.374682</td>\n",
       "      <td>2729</td>\n",
       "    </tr>\n",
       "  </tbody>\n",
       "</table>\n",
       "<p>730 rows × 11 columns</p>\n",
       "</div>"
      ],
      "text/plain": [
       "     season  yr  mnth  holiday  weekday  workingday  weathersit       temp  \\\n",
       "0         1   0     1        0        6           0           2  14.110847   \n",
       "1         1   0     1        0        0           0           2  14.902598   \n",
       "2         1   0     1        0        1           1           1   8.050924   \n",
       "3         1   0     1        0        2           1           1   8.200000   \n",
       "4         1   0     1        0        3           1           1   9.305237   \n",
       "..      ...  ..   ...      ...      ...         ...         ...        ...   \n",
       "725       1   1    12        0        4           1           2  10.420847   \n",
       "726       1   1    12        0        5           1           2  10.386653   \n",
       "727       1   1    12        0        6           0           2  10.386653   \n",
       "728       1   1    12        0        0           0           1  10.489153   \n",
       "729       1   1    12        0        1           1           2   8.849153   \n",
       "\n",
       "         hum  windspeed   cnt  \n",
       "0    80.5833  10.749882   985  \n",
       "1    69.6087  16.652113   801  \n",
       "2    43.7273  16.636703  1349  \n",
       "3    59.0435  10.739832  1562  \n",
       "4    43.6957  12.522300  1600  \n",
       "..       ...        ...   ...  \n",
       "725  65.2917  23.458911  2114  \n",
       "726  59.0000  10.416557  3095  \n",
       "727  75.2917   8.333661  1341  \n",
       "728  48.3333  23.500518  1796  \n",
       "729  57.7500  10.374682  2729  \n",
       "\n",
       "[730 rows x 11 columns]"
      ]
     },
     "execution_count": 8,
     "metadata": {},
     "output_type": "execute_result"
    }
   ],
   "source": [
    "# Checking Data after dropping columns\n",
    "df"
   ]
  },
  {
   "cell_type": "code",
   "execution_count": 9,
   "metadata": {
    "colab": {
     "base_uri": "https://localhost:8080/"
    },
    "id": "yEyMKZPIptk3",
    "outputId": "4cc27c1c-50b8-46c9-c053-f2481c6c9692"
   },
   "outputs": [
    {
     "data": {
      "text/plain": [
       "season        0.0\n",
       "yr            0.0\n",
       "mnth          0.0\n",
       "holiday       0.0\n",
       "weekday       0.0\n",
       "workingday    0.0\n",
       "weathersit    0.0\n",
       "temp          0.0\n",
       "hum           0.0\n",
       "windspeed     0.0\n",
       "cnt           0.0\n",
       "dtype: float64"
      ]
     },
     "execution_count": 9,
     "metadata": {},
     "output_type": "execute_result"
    }
   ],
   "source": [
    "# Checking proportion of missing values in each column\n",
    "df.isnull().mean()"
   ]
  },
  {
   "cell_type": "code",
   "execution_count": 10,
   "metadata": {
    "colab": {
     "base_uri": "https://localhost:8080/"
    },
    "id": "m4mUAmT2qO1C",
    "outputId": "85ce43c1-7c32-4de2-c89c-6537cb4bb3c0"
   },
   "outputs": [
    {
     "data": {
      "text/plain": [
       "season          4\n",
       "yr              2\n",
       "mnth           12\n",
       "holiday         2\n",
       "weekday         7\n",
       "workingday      2\n",
       "weathersit      3\n",
       "temp          498\n",
       "hum           594\n",
       "windspeed     649\n",
       "cnt           695\n",
       "dtype: int64"
      ]
     },
     "execution_count": 10,
     "metadata": {},
     "output_type": "execute_result"
    }
   ],
   "source": [
    "# Calulating number of unique values in each column\n",
    "df.nunique()"
   ]
  },
  {
   "cell_type": "code",
   "execution_count": 11,
   "metadata": {
    "colab": {
     "base_uri": "https://localhost:8080/"
    },
    "id": "W5L9Z7PGqRkh",
    "outputId": "1f484266-1170-4d2f-9416-c2199aedaf30"
   },
   "outputs": [
    {
     "data": {
      "text/plain": [
       "11"
      ]
     },
     "execution_count": 11,
     "metadata": {},
     "output_type": "execute_result"
    }
   ],
   "source": [
    "# Creating list for categorical, continuous and target column.\n",
    "cat_cols = ['season','yr','mnth','holiday','weekday','workingday','weathersit']\n",
    "cont_cols = ['temp','hum','windspeed']\n",
    "target = ['cnt']\n",
    "len(cat_cols)+len(cont_cols)+len(target)"
   ]
  },
  {
   "cell_type": "markdown",
   "metadata": {
    "id": "TlMVgpgmteas"
   },
   "source": [
    "## **Uniariate Analysis**"
   ]
  },
  {
   "cell_type": "code",
   "execution_count": 12,
   "metadata": {
    "colab": {
     "base_uri": "https://localhost:8080/",
     "height": 1000
    },
    "id": "BRbs_YN5sHv7",
    "outputId": "04652ac9-ce6c-4988-c579-291b4dd9ec56",
    "scrolled": false
   },
   "outputs": [
    {
     "data": {
      "image/png": "[encoded data removed]",
      "text/plain": [
       "<Figure size 1600x1000 with 6 Axes>"
      ]
     },
     "metadata": {},
     "output_type": "display_data"
    }
   ],
   "source": [
    "# Print continuous columns graph using countplot\n",
    "fig, axs = plt.subplots(len(cont_cols) // 1, 2, figsize=(16, 10))\n",
    "for i in range(len(cont_cols) // 2):\n",
    "    for j in range(2):\n",
    "        index = 2 * i + j\n",
    "        sns.histplot(df[cont_cols[index]], ax=axs[i][j])\n",
    "plt.show()\n"
   ]
  },
  {
   "cell_type": "markdown",
   "metadata": {},
   "source": [
    "### _Insights_:\n",
    "- According to 'windspeed' people would prefer to travel while windspeed is between 8 to 16 after, that the rented bike graph goes down\n",
    "- On the basis 'hum' column customer rented bike when humidity is higher than 70\n",
    "- According to 'temp' graph people prefer to rented bike when temprature is moderate either extreme low nor extreme high\n",
    "- Based on above insights we can conclude that climate directly control shared bike business."
   ]
  },
  {
   "cell_type": "code",
   "execution_count": 13,
   "metadata": {
    "colab": {
     "base_uri": "https://localhost:8080/",
     "height": 1000
    },
    "id": "3rEzSfK6uEli",
    "outputId": "c355b82a-62e9-4046-8f28-1880a63c903b",
    "scrolled": false
   },
   "outputs": [
    {
     "data": {
      "image/png": "[encoded data removed]",
      "text/plain": [
       "<Figure size 1600x1000 with 6 Axes>"
      ]
     },
     "metadata": {},
     "output_type": "display_data"
    }
   ],
   "source": [
    "# Print countplot graph for categorical columns\n",
    "fig, axs = plt.subplots(len(cat_cols) // 2, 2, figsize=(16, 10))\n",
    "for i in range(len(cat_cols) // 2):\n",
    "    for j in range(2):\n",
    "        index = 2 * i + j\n",
    "        sns.countplot(x=cat_cols[index], data=df, ax=axs[i][j])\n",
    "plt.show()\n"
   ]
  },
  {
   "cell_type": "code",
   "execution_count": null,
   "metadata": {},
   "outputs": [],
   "source": []
  },
  {
   "cell_type": "markdown",
   "metadata": {
    "id": "IpldxxTaxBxl"
   },
   "source": [
    "## **Biavariate Analysis**"
   ]
  },
  {
   "cell_type": "code",
   "execution_count": 14,
   "metadata": {
    "colab": {
     "base_uri": "https://localhost:8080/",
     "height": 1000
    },
    "id": "05Ajscijxl0Q",
    "outputId": "113885a5-227d-478b-f897-867f00c58a30",
    "scrolled": false
   },
   "outputs": [
    {
     "data": {
      "image/png": "[encoded data removed]",
      "text/plain": [
       "<Figure size 1500x1500 with 7 Axes>"
      ]
     },
     "metadata": {},
     "output_type": "display_data"
    }
   ],
   "source": [
    "# Boxplot for categorical column\n",
    "cat_cols = ['season','yr','mnth','holiday','weekday','workingday','weathersit']\n",
    "plt.figure(figsize=(15, 15))\n",
    "for i in enumerate(cat_cols):\n",
    "    plt.subplot(3,3,i[0]+1)\n",
    "    sns.boxplot(data=df, x=i[1], y='cnt')\n",
    "plt.show()"
   ]
  },
  {
   "cell_type": "markdown",
   "metadata": {},
   "source": [
    "#### _`Inference`_:\n",
    "    Here are few insights we drawn from the plots\n",
    "\n",
    "    1. Fall is the most popular season to hire bikes.\n",
    "    2. I've noticed an increase in demand for next year.\n",
    "    3. Demand is increasing month after month until season_6. The month of season_9 has the biggest demand. Demand begins to \n",
    "    fall after season_9.\n",
    "    4. When there is a holiday, demand falls.\n",
    "    5. The weekday does not provide a clear picture of demand."
   ]
  },
  {
   "cell_type": "code",
   "execution_count": 15,
   "metadata": {},
   "outputs": [
    {
     "data": {
      "image/png": "[encoded data removed]",
      "text/plain": [
       "<Figure size 1800x400 with 3 Axes>"
      ]
     },
     "metadata": {},
     "output_type": "display_data"
    }
   ],
   "source": [
    "# Draw box plots for indepent variables with continuous values\n",
    "cols = ['temp','hum', 'windspeed']\n",
    "plt.figure(figsize=(18,4))\n",
    "\n",
    "i = 1\n",
    "for col in cols:\n",
    "    plt.subplot(1,3,i)\n",
    "    sns.boxplot(y=col, data=df)\n",
    "    i+=1"
   ]
  },
  {
   "cell_type": "markdown",
   "metadata": {},
   "source": [
    "#### From these plots, we can see there are no outliers to be handled. We are good with not having any outliers in the data set"
   ]
  },
  {
   "cell_type": "markdown",
   "metadata": {
    "id": "fE4yLu92yhGv"
   },
   "source": [
    "## Multivariate Analysis"
   ]
  },
  {
   "cell_type": "code",
   "execution_count": 16,
   "metadata": {
    "id": "AmtASJbk7j1i"
   },
   "outputs": [],
   "source": [
    "# create new dataframe with only continuous columns\n",
    "cont_df = df[cont_cols]"
   ]
  },
  {
   "cell_type": "code",
   "execution_count": 17,
   "metadata": {
    "colab": {
     "base_uri": "https://localhost:8080/",
     "height": 1000
    },
    "id": "GS0USI-eyptX",
    "outputId": "dbd8b92a-15eb-4840-be6a-f916636fefa0"
   },
   "outputs": [
    {
     "data": {
      "image/png": "[encoded data removed]",
      "text/plain": [
       "<Figure size 750x750 with 12 Axes>"
      ]
     },
     "metadata": {},
     "output_type": "display_data"
    }
   ],
   "source": [
    "# plot pairplot\n",
    "sns.pairplot(cont_df)\n",
    "plt.show()"
   ]
  },
  {
   "cell_type": "markdown",
   "metadata": {
    "id": "91385af7"
   },
   "source": [
    "## **Pre - Processing Steps**"
   ]
  },
  {
   "cell_type": "markdown",
   "metadata": {},
   "source": [
    "# mapping"
   ]
  },
  {
   "cell_type": "code",
   "execution_count": 18,
   "metadata": {},
   "outputs": [],
   "source": [
    "# mapping column season--\n",
    "df['season'].replace({1:\"spring\",2:\"summer\",3:\"fall\",4:\"winter\"},inplace=True)"
   ]
  },
  {
   "cell_type": "code",
   "execution_count": 19,
   "metadata": {},
   "outputs": [],
   "source": [
    "# mapping column month--\n",
    "df['mnth'].replace({1:\"January\",2:\"Feburary\",3:\"March\",4:\"April\",5:\"May\",6:\"June\",7:\"July\",8:\"August\",\n",
    "                    9:\"September\",10:\"October\",11:\"November\",12:\"December\"},inplace=True)"
   ]
  },
  {
   "cell_type": "code",
   "execution_count": 20,
   "metadata": {},
   "outputs": [],
   "source": [
    "# mapping column weekday--\n",
    "df['weekday'].replace({0:\"Sunday\",1:\"Monday\",2:\"Tuesday\",3:\"Wednesday\",4:\"Thursday\",5:\"Friday\",6:\"Saturday\"},inplace=True)"
   ]
  },
  {
   "cell_type": "code",
   "execution_count": 21,
   "metadata": {},
   "outputs": [],
   "source": [
    "# mapping column weathersit\n",
    "df['weathersit'].replace({1:\"Clear_Few Clouds\",2:\"Mist_cloudy\",3:\"Light rain_Light snow_Thunderstorm\",\n",
    "                          4:'Heavy Rain_Ice Pallets_Thunderstorm_Mist'},inplace=True)"
   ]
  },
  {
   "cell_type": "markdown",
   "metadata": {
    "id": "87be2001"
   },
   "source": [
    "### **Dummy Variable Creation**\n",
    "\n"
   ]
  },
  {
   "cell_type": "code",
   "execution_count": 22,
   "metadata": {
    "colab": {
     "base_uri": "https://localhost:8080/"
    },
    "id": "9wbB9xpA-W0s",
    "outputId": "c56d04b7-82e5-47b8-e382-64e72332a99b"
   },
   "outputs": [
    {
     "data": {
      "text/plain": [
       "season         4\n",
       "yr             2\n",
       "mnth          12\n",
       "holiday        2\n",
       "weekday        7\n",
       "workingday     2\n",
       "weathersit     3\n",
       "dtype: int64"
      ]
     },
     "execution_count": 22,
     "metadata": {},
     "output_type": "execute_result"
    }
   ],
   "source": [
    "# Checking no. of unique values of categorical columns\n",
    "df[cat_cols].nunique()# Only for non binary categorical columns"
   ]
  },
  {
   "cell_type": "code",
   "execution_count": 23,
   "metadata": {
    "colab": {
     "base_uri": "https://localhost:8080/",
     "height": 206
    },
    "id": "6d91fac6",
    "outputId": "5f364e67-c150-4e64-f868-fb1350882a3d"
   },
   "outputs": [
    {
     "data": {
      "text/html": [
       "<div>\n",
       "<style scoped>\n",
       "    .dataframe tbody tr th:only-of-type {\n",
       "        vertical-align: middle;\n",
       "    }\n",
       "\n",
       "    .dataframe tbody tr th {\n",
       "        vertical-align: top;\n",
       "    }\n",
       "\n",
       "    .dataframe thead th {\n",
       "        text-align: right;\n",
       "    }\n",
       "</style>\n",
       "<table border=\"1\" class=\"dataframe\">\n",
       "  <thead>\n",
       "    <tr style=\"text-align: right;\">\n",
       "      <th></th>\n",
       "      <th>spring</th>\n",
       "      <th>summer</th>\n",
       "      <th>winter</th>\n",
       "    </tr>\n",
       "  </thead>\n",
       "  <tbody>\n",
       "    <tr>\n",
       "      <th>0</th>\n",
       "      <td>1</td>\n",
       "      <td>0</td>\n",
       "      <td>0</td>\n",
       "    </tr>\n",
       "    <tr>\n",
       "      <th>1</th>\n",
       "      <td>1</td>\n",
       "      <td>0</td>\n",
       "      <td>0</td>\n",
       "    </tr>\n",
       "    <tr>\n",
       "      <th>2</th>\n",
       "      <td>1</td>\n",
       "      <td>0</td>\n",
       "      <td>0</td>\n",
       "    </tr>\n",
       "    <tr>\n",
       "      <th>3</th>\n",
       "      <td>1</td>\n",
       "      <td>0</td>\n",
       "      <td>0</td>\n",
       "    </tr>\n",
       "    <tr>\n",
       "      <th>4</th>\n",
       "      <td>1</td>\n",
       "      <td>0</td>\n",
       "      <td>0</td>\n",
       "    </tr>\n",
       "  </tbody>\n",
       "</table>\n",
       "</div>"
      ],
      "text/plain": [
       "   spring  summer  winter\n",
       "0       1       0       0\n",
       "1       1       0       0\n",
       "2       1       0       0\n",
       "3       1       0       0\n",
       "4       1       0       0"
      ]
     },
     "execution_count": 23,
     "metadata": {},
     "output_type": "execute_result"
    }
   ],
   "source": [
    "# Creating dummy variable for 'season' column and drop first column\n",
    "season_dum = pd.get_dummies(df[\"season\"], drop_first=True)\n",
    "season_dum.head()"
   ]
  },
  {
   "cell_type": "code",
   "execution_count": 24,
   "metadata": {
    "colab": {
     "base_uri": "https://localhost:8080/",
     "height": 206
    },
    "id": "1UNefLSpwATs",
    "outputId": "fd966c58-23e6-4553-9d2a-288d5ff72831"
   },
   "outputs": [
    {
     "data": {
      "text/html": [
       "<div>\n",
       "<style scoped>\n",
       "    .dataframe tbody tr th:only-of-type {\n",
       "        vertical-align: middle;\n",
       "    }\n",
       "\n",
       "    .dataframe tbody tr th {\n",
       "        vertical-align: top;\n",
       "    }\n",
       "\n",
       "    .dataframe thead th {\n",
       "        text-align: right;\n",
       "    }\n",
       "</style>\n",
       "<table border=\"1\" class=\"dataframe\">\n",
       "  <thead>\n",
       "    <tr style=\"text-align: right;\">\n",
       "      <th></th>\n",
       "      <th>August</th>\n",
       "      <th>December</th>\n",
       "      <th>Feburary</th>\n",
       "      <th>January</th>\n",
       "      <th>July</th>\n",
       "      <th>June</th>\n",
       "      <th>March</th>\n",
       "      <th>May</th>\n",
       "      <th>November</th>\n",
       "      <th>October</th>\n",
       "      <th>September</th>\n",
       "    </tr>\n",
       "  </thead>\n",
       "  <tbody>\n",
       "    <tr>\n",
       "      <th>0</th>\n",
       "      <td>0</td>\n",
       "      <td>0</td>\n",
       "      <td>0</td>\n",
       "      <td>1</td>\n",
       "      <td>0</td>\n",
       "      <td>0</td>\n",
       "      <td>0</td>\n",
       "      <td>0</td>\n",
       "      <td>0</td>\n",
       "      <td>0</td>\n",
       "      <td>0</td>\n",
       "    </tr>\n",
       "    <tr>\n",
       "      <th>1</th>\n",
       "      <td>0</td>\n",
       "      <td>0</td>\n",
       "      <td>0</td>\n",
       "      <td>1</td>\n",
       "      <td>0</td>\n",
       "      <td>0</td>\n",
       "      <td>0</td>\n",
       "      <td>0</td>\n",
       "      <td>0</td>\n",
       "      <td>0</td>\n",
       "      <td>0</td>\n",
       "    </tr>\n",
       "    <tr>\n",
       "      <th>2</th>\n",
       "      <td>0</td>\n",
       "      <td>0</td>\n",
       "      <td>0</td>\n",
       "      <td>1</td>\n",
       "      <td>0</td>\n",
       "      <td>0</td>\n",
       "      <td>0</td>\n",
       "      <td>0</td>\n",
       "      <td>0</td>\n",
       "      <td>0</td>\n",
       "      <td>0</td>\n",
       "    </tr>\n",
       "    <tr>\n",
       "      <th>3</th>\n",
       "      <td>0</td>\n",
       "      <td>0</td>\n",
       "      <td>0</td>\n",
       "      <td>1</td>\n",
       "      <td>0</td>\n",
       "      <td>0</td>\n",
       "      <td>0</td>\n",
       "      <td>0</td>\n",
       "      <td>0</td>\n",
       "      <td>0</td>\n",
       "      <td>0</td>\n",
       "    </tr>\n",
       "    <tr>\n",
       "      <th>4</th>\n",
       "      <td>0</td>\n",
       "      <td>0</td>\n",
       "      <td>0</td>\n",
       "      <td>1</td>\n",
       "      <td>0</td>\n",
       "      <td>0</td>\n",
       "      <td>0</td>\n",
       "      <td>0</td>\n",
       "      <td>0</td>\n",
       "      <td>0</td>\n",
       "      <td>0</td>\n",
       "    </tr>\n",
       "  </tbody>\n",
       "</table>\n",
       "</div>"
      ],
      "text/plain": [
       "   August  December  Feburary  January  July  June  March  May  November  \\\n",
       "0       0         0         0        1     0     0      0    0         0   \n",
       "1       0         0         0        1     0     0      0    0         0   \n",
       "2       0         0         0        1     0     0      0    0         0   \n",
       "3       0         0         0        1     0     0      0    0         0   \n",
       "4       0         0         0        1     0     0      0    0         0   \n",
       "\n",
       "   October  September  \n",
       "0        0          0  \n",
       "1        0          0  \n",
       "2        0          0  \n",
       "3        0          0  \n",
       "4        0          0  "
      ]
     },
     "execution_count": 24,
     "metadata": {},
     "output_type": "execute_result"
    }
   ],
   "source": [
    "# Creating dummy variable for 'mnth' column and drop first column\n",
    "mnth_dum=pd.get_dummies(df[\"mnth\"], drop_first=True)\n",
    "mnth_dum.head()"
   ]
  },
  {
   "cell_type": "code",
   "execution_count": 25,
   "metadata": {
    "colab": {
     "base_uri": "https://localhost:8080/",
     "height": 206
    },
    "id": "RxIg-CzlEzv4",
    "outputId": "3c0d64c2-cc93-4d2d-cdf1-219b5dfdba3e"
   },
   "outputs": [
    {
     "data": {
      "text/html": [
       "<div>\n",
       "<style scoped>\n",
       "    .dataframe tbody tr th:only-of-type {\n",
       "        vertical-align: middle;\n",
       "    }\n",
       "\n",
       "    .dataframe tbody tr th {\n",
       "        vertical-align: top;\n",
       "    }\n",
       "\n",
       "    .dataframe thead th {\n",
       "        text-align: right;\n",
       "    }\n",
       "</style>\n",
       "<table border=\"1\" class=\"dataframe\">\n",
       "  <thead>\n",
       "    <tr style=\"text-align: right;\">\n",
       "      <th></th>\n",
       "      <th>Monday</th>\n",
       "      <th>Saturday</th>\n",
       "      <th>Sunday</th>\n",
       "      <th>Thursday</th>\n",
       "      <th>Tuesday</th>\n",
       "      <th>Wednesday</th>\n",
       "    </tr>\n",
       "  </thead>\n",
       "  <tbody>\n",
       "    <tr>\n",
       "      <th>0</th>\n",
       "      <td>0</td>\n",
       "      <td>1</td>\n",
       "      <td>0</td>\n",
       "      <td>0</td>\n",
       "      <td>0</td>\n",
       "      <td>0</td>\n",
       "    </tr>\n",
       "    <tr>\n",
       "      <th>1</th>\n",
       "      <td>0</td>\n",
       "      <td>0</td>\n",
       "      <td>1</td>\n",
       "      <td>0</td>\n",
       "      <td>0</td>\n",
       "      <td>0</td>\n",
       "    </tr>\n",
       "    <tr>\n",
       "      <th>2</th>\n",
       "      <td>1</td>\n",
       "      <td>0</td>\n",
       "      <td>0</td>\n",
       "      <td>0</td>\n",
       "      <td>0</td>\n",
       "      <td>0</td>\n",
       "    </tr>\n",
       "    <tr>\n",
       "      <th>3</th>\n",
       "      <td>0</td>\n",
       "      <td>0</td>\n",
       "      <td>0</td>\n",
       "      <td>0</td>\n",
       "      <td>1</td>\n",
       "      <td>0</td>\n",
       "    </tr>\n",
       "    <tr>\n",
       "      <th>4</th>\n",
       "      <td>0</td>\n",
       "      <td>0</td>\n",
       "      <td>0</td>\n",
       "      <td>0</td>\n",
       "      <td>0</td>\n",
       "      <td>1</td>\n",
       "    </tr>\n",
       "  </tbody>\n",
       "</table>\n",
       "</div>"
      ],
      "text/plain": [
       "   Monday  Saturday  Sunday  Thursday  Tuesday  Wednesday\n",
       "0       0         1       0         0        0          0\n",
       "1       0         0       1         0        0          0\n",
       "2       1         0       0         0        0          0\n",
       "3       0         0       0         0        1          0\n",
       "4       0         0       0         0        0          1"
      ]
     },
     "execution_count": 25,
     "metadata": {},
     "output_type": "execute_result"
    }
   ],
   "source": [
    "# Creating dummy variable for 'weekday' column and drop first column\n",
    "weekday_dum=pd.get_dummies(df[\"weekday\"], drop_first=True)\n",
    "weekday_dum.head()"
   ]
  },
  {
   "cell_type": "code",
   "execution_count": 26,
   "metadata": {
    "colab": {
     "base_uri": "https://localhost:8080/",
     "height": 206
    },
    "id": "B79CaT6_E2w4",
    "outputId": "fe0ac314-6e9f-4f6c-c6d3-27c2214da291"
   },
   "outputs": [
    {
     "data": {
      "text/html": [
       "<div>\n",
       "<style scoped>\n",
       "    .dataframe tbody tr th:only-of-type {\n",
       "        vertical-align: middle;\n",
       "    }\n",
       "\n",
       "    .dataframe tbody tr th {\n",
       "        vertical-align: top;\n",
       "    }\n",
       "\n",
       "    .dataframe thead th {\n",
       "        text-align: right;\n",
       "    }\n",
       "</style>\n",
       "<table border=\"1\" class=\"dataframe\">\n",
       "  <thead>\n",
       "    <tr style=\"text-align: right;\">\n",
       "      <th></th>\n",
       "      <th>Light rain_Light snow_Thunderstorm</th>\n",
       "      <th>Mist_cloudy</th>\n",
       "    </tr>\n",
       "  </thead>\n",
       "  <tbody>\n",
       "    <tr>\n",
       "      <th>0</th>\n",
       "      <td>0</td>\n",
       "      <td>1</td>\n",
       "    </tr>\n",
       "    <tr>\n",
       "      <th>1</th>\n",
       "      <td>0</td>\n",
       "      <td>1</td>\n",
       "    </tr>\n",
       "    <tr>\n",
       "      <th>2</th>\n",
       "      <td>0</td>\n",
       "      <td>0</td>\n",
       "    </tr>\n",
       "    <tr>\n",
       "      <th>3</th>\n",
       "      <td>0</td>\n",
       "      <td>0</td>\n",
       "    </tr>\n",
       "    <tr>\n",
       "      <th>4</th>\n",
       "      <td>0</td>\n",
       "      <td>0</td>\n",
       "    </tr>\n",
       "  </tbody>\n",
       "</table>\n",
       "</div>"
      ],
      "text/plain": [
       "   Light rain_Light snow_Thunderstorm  Mist_cloudy\n",
       "0                                   0            1\n",
       "1                                   0            1\n",
       "2                                   0            0\n",
       "3                                   0            0\n",
       "4                                   0            0"
      ]
     },
     "execution_count": 26,
     "metadata": {},
     "output_type": "execute_result"
    }
   ],
   "source": [
    "# Creating dummy variable for 'weathersit' column and drop first column\n",
    "weathersit_dum=pd.get_dummies(df[\"weathersit\"], drop_first=True)\n",
    "weathersit_dum.head()"
   ]
  },
  {
   "cell_type": "code",
   "execution_count": 27,
   "metadata": {
    "colab": {
     "base_uri": "https://localhost:8080/",
     "height": 300
    },
    "id": "qM0GDZ1SFlg0",
    "outputId": "228b5d2d-bbf7-4723-c0b8-bd7b00848c64"
   },
   "outputs": [
    {
     "data": {
      "text/html": [
       "<div>\n",
       "<style scoped>\n",
       "    .dataframe tbody tr th:only-of-type {\n",
       "        vertical-align: middle;\n",
       "    }\n",
       "\n",
       "    .dataframe tbody tr th {\n",
       "        vertical-align: top;\n",
       "    }\n",
       "\n",
       "    .dataframe thead th {\n",
       "        text-align: right;\n",
       "    }\n",
       "</style>\n",
       "<table border=\"1\" class=\"dataframe\">\n",
       "  <thead>\n",
       "    <tr style=\"text-align: right;\">\n",
       "      <th></th>\n",
       "      <th>spring</th>\n",
       "      <th>summer</th>\n",
       "      <th>winter</th>\n",
       "      <th>August</th>\n",
       "      <th>December</th>\n",
       "      <th>Feburary</th>\n",
       "      <th>January</th>\n",
       "      <th>July</th>\n",
       "      <th>June</th>\n",
       "      <th>March</th>\n",
       "      <th>...</th>\n",
       "      <th>yr</th>\n",
       "      <th>mnth</th>\n",
       "      <th>holiday</th>\n",
       "      <th>weekday</th>\n",
       "      <th>workingday</th>\n",
       "      <th>weathersit</th>\n",
       "      <th>temp</th>\n",
       "      <th>hum</th>\n",
       "      <th>windspeed</th>\n",
       "      <th>cnt</th>\n",
       "    </tr>\n",
       "  </thead>\n",
       "  <tbody>\n",
       "    <tr>\n",
       "      <th>0</th>\n",
       "      <td>1</td>\n",
       "      <td>0</td>\n",
       "      <td>0</td>\n",
       "      <td>0</td>\n",
       "      <td>0</td>\n",
       "      <td>0</td>\n",
       "      <td>1</td>\n",
       "      <td>0</td>\n",
       "      <td>0</td>\n",
       "      <td>0</td>\n",
       "      <td>...</td>\n",
       "      <td>0</td>\n",
       "      <td>January</td>\n",
       "      <td>0</td>\n",
       "      <td>Saturday</td>\n",
       "      <td>0</td>\n",
       "      <td>Mist_cloudy</td>\n",
       "      <td>14.110847</td>\n",
       "      <td>80.5833</td>\n",
       "      <td>10.749882</td>\n",
       "      <td>985</td>\n",
       "    </tr>\n",
       "    <tr>\n",
       "      <th>1</th>\n",
       "      <td>1</td>\n",
       "      <td>0</td>\n",
       "      <td>0</td>\n",
       "      <td>0</td>\n",
       "      <td>0</td>\n",
       "      <td>0</td>\n",
       "      <td>1</td>\n",
       "      <td>0</td>\n",
       "      <td>0</td>\n",
       "      <td>0</td>\n",
       "      <td>...</td>\n",
       "      <td>0</td>\n",
       "      <td>January</td>\n",
       "      <td>0</td>\n",
       "      <td>Sunday</td>\n",
       "      <td>0</td>\n",
       "      <td>Mist_cloudy</td>\n",
       "      <td>14.902598</td>\n",
       "      <td>69.6087</td>\n",
       "      <td>16.652113</td>\n",
       "      <td>801</td>\n",
       "    </tr>\n",
       "    <tr>\n",
       "      <th>2</th>\n",
       "      <td>1</td>\n",
       "      <td>0</td>\n",
       "      <td>0</td>\n",
       "      <td>0</td>\n",
       "      <td>0</td>\n",
       "      <td>0</td>\n",
       "      <td>1</td>\n",
       "      <td>0</td>\n",
       "      <td>0</td>\n",
       "      <td>0</td>\n",
       "      <td>...</td>\n",
       "      <td>0</td>\n",
       "      <td>January</td>\n",
       "      <td>0</td>\n",
       "      <td>Monday</td>\n",
       "      <td>1</td>\n",
       "      <td>Clear_Few Clouds</td>\n",
       "      <td>8.050924</td>\n",
       "      <td>43.7273</td>\n",
       "      <td>16.636703</td>\n",
       "      <td>1349</td>\n",
       "    </tr>\n",
       "    <tr>\n",
       "      <th>3</th>\n",
       "      <td>1</td>\n",
       "      <td>0</td>\n",
       "      <td>0</td>\n",
       "      <td>0</td>\n",
       "      <td>0</td>\n",
       "      <td>0</td>\n",
       "      <td>1</td>\n",
       "      <td>0</td>\n",
       "      <td>0</td>\n",
       "      <td>0</td>\n",
       "      <td>...</td>\n",
       "      <td>0</td>\n",
       "      <td>January</td>\n",
       "      <td>0</td>\n",
       "      <td>Tuesday</td>\n",
       "      <td>1</td>\n",
       "      <td>Clear_Few Clouds</td>\n",
       "      <td>8.200000</td>\n",
       "      <td>59.0435</td>\n",
       "      <td>10.739832</td>\n",
       "      <td>1562</td>\n",
       "    </tr>\n",
       "    <tr>\n",
       "      <th>4</th>\n",
       "      <td>1</td>\n",
       "      <td>0</td>\n",
       "      <td>0</td>\n",
       "      <td>0</td>\n",
       "      <td>0</td>\n",
       "      <td>0</td>\n",
       "      <td>1</td>\n",
       "      <td>0</td>\n",
       "      <td>0</td>\n",
       "      <td>0</td>\n",
       "      <td>...</td>\n",
       "      <td>0</td>\n",
       "      <td>January</td>\n",
       "      <td>0</td>\n",
       "      <td>Wednesday</td>\n",
       "      <td>1</td>\n",
       "      <td>Clear_Few Clouds</td>\n",
       "      <td>9.305237</td>\n",
       "      <td>43.6957</td>\n",
       "      <td>12.522300</td>\n",
       "      <td>1600</td>\n",
       "    </tr>\n",
       "  </tbody>\n",
       "</table>\n",
       "<p>5 rows × 33 columns</p>\n",
       "</div>"
      ],
      "text/plain": [
       "   spring  summer  winter  August  December  Feburary  January  July  June  \\\n",
       "0       1       0       0       0         0         0        1     0     0   \n",
       "1       1       0       0       0         0         0        1     0     0   \n",
       "2       1       0       0       0         0         0        1     0     0   \n",
       "3       1       0       0       0         0         0        1     0     0   \n",
       "4       1       0       0       0         0         0        1     0     0   \n",
       "\n",
       "   March  ...  yr     mnth  holiday    weekday  workingday        weathersit  \\\n",
       "0      0  ...   0  January        0   Saturday           0       Mist_cloudy   \n",
       "1      0  ...   0  January        0     Sunday           0       Mist_cloudy   \n",
       "2      0  ...   0  January        0     Monday           1  Clear_Few Clouds   \n",
       "3      0  ...   0  January        0    Tuesday           1  Clear_Few Clouds   \n",
       "4      0  ...   0  January        0  Wednesday           1  Clear_Few Clouds   \n",
       "\n",
       "        temp      hum  windspeed   cnt  \n",
       "0  14.110847  80.5833  10.749882   985  \n",
       "1  14.902598  69.6087  16.652113   801  \n",
       "2   8.050924  43.7273  16.636703  1349  \n",
       "3   8.200000  59.0435  10.739832  1562  \n",
       "4   9.305237  43.6957  12.522300  1600  \n",
       "\n",
       "[5 rows x 33 columns]"
      ]
     },
     "execution_count": 27,
     "metadata": {},
     "output_type": "execute_result"
    }
   ],
   "source": [
    "# Combining the result to the dataframe\n",
    "df1 = pd.concat([season_dum, mnth_dum, weekday_dum, weathersit_dum, df], axis=1)\n",
    "df1.head()"
   ]
  },
  {
   "cell_type": "code",
   "execution_count": 28,
   "metadata": {},
   "outputs": [
    {
     "data": {
      "text/plain": [
       "Index(['spring', 'summer', 'winter', 'August', 'December', 'Feburary',\n",
       "       'January', 'July', 'June', 'March', 'May', 'November', 'October',\n",
       "       'September', 'Monday', 'Saturday', 'Sunday', 'Thursday', 'Tuesday',\n",
       "       'Wednesday', 'Light rain_Light snow_Thunderstorm', 'Mist_cloudy',\n",
       "       'season', 'yr', 'mnth', 'holiday', 'weekday', 'workingday',\n",
       "       'weathersit', 'temp', 'hum', 'windspeed', 'cnt'],\n",
       "      dtype='object')"
      ]
     },
     "execution_count": 28,
     "metadata": {},
     "output_type": "execute_result"
    }
   ],
   "source": [
    "# Print columns after creating dummy variuables \n",
    "df1.columns"
   ]
  },
  {
   "cell_type": "code",
   "execution_count": 29,
   "metadata": {
    "id": "5OgW7-liGR9i"
   },
   "outputs": [],
   "source": [
    "# Check if the columns exist in the dataframe before dropping them\n",
    "cols_to_drop = ['season', 'mnth', 'weathersit', 'weekday']"
   ]
  },
  {
   "cell_type": "code",
   "execution_count": 30,
   "metadata": {
    "id": "tTdfT7ARGXln"
   },
   "outputs": [],
   "source": [
    "# Creating loop to drop columns\n",
    "existing_cols = [col for col in cols_to_drop if col in df.columns]\n",
    "df1.drop(existing_cols, axis=1, inplace=True)"
   ]
  },
  {
   "cell_type": "code",
   "execution_count": 31,
   "metadata": {
    "colab": {
     "base_uri": "https://localhost:8080/",
     "height": 300
    },
    "id": "bDON5wekGY6y",
    "outputId": "aa5e1c8f-3b2f-434e-e615-ba197d522244"
   },
   "outputs": [
    {
     "data": {
      "text/html": [
       "<div>\n",
       "<style scoped>\n",
       "    .dataframe tbody tr th:only-of-type {\n",
       "        vertical-align: middle;\n",
       "    }\n",
       "\n",
       "    .dataframe tbody tr th {\n",
       "        vertical-align: top;\n",
       "    }\n",
       "\n",
       "    .dataframe thead th {\n",
       "        text-align: right;\n",
       "    }\n",
       "</style>\n",
       "<table border=\"1\" class=\"dataframe\">\n",
       "  <thead>\n",
       "    <tr style=\"text-align: right;\">\n",
       "      <th></th>\n",
       "      <th>spring</th>\n",
       "      <th>summer</th>\n",
       "      <th>winter</th>\n",
       "      <th>August</th>\n",
       "      <th>December</th>\n",
       "      <th>Feburary</th>\n",
       "      <th>January</th>\n",
       "      <th>July</th>\n",
       "      <th>June</th>\n",
       "      <th>March</th>\n",
       "      <th>...</th>\n",
       "      <th>Wednesday</th>\n",
       "      <th>Light rain_Light snow_Thunderstorm</th>\n",
       "      <th>Mist_cloudy</th>\n",
       "      <th>yr</th>\n",
       "      <th>holiday</th>\n",
       "      <th>workingday</th>\n",
       "      <th>temp</th>\n",
       "      <th>hum</th>\n",
       "      <th>windspeed</th>\n",
       "      <th>cnt</th>\n",
       "    </tr>\n",
       "  </thead>\n",
       "  <tbody>\n",
       "    <tr>\n",
       "      <th>0</th>\n",
       "      <td>1</td>\n",
       "      <td>0</td>\n",
       "      <td>0</td>\n",
       "      <td>0</td>\n",
       "      <td>0</td>\n",
       "      <td>0</td>\n",
       "      <td>1</td>\n",
       "      <td>0</td>\n",
       "      <td>0</td>\n",
       "      <td>0</td>\n",
       "      <td>...</td>\n",
       "      <td>0</td>\n",
       "      <td>0</td>\n",
       "      <td>1</td>\n",
       "      <td>0</td>\n",
       "      <td>0</td>\n",
       "      <td>0</td>\n",
       "      <td>14.110847</td>\n",
       "      <td>80.5833</td>\n",
       "      <td>10.749882</td>\n",
       "      <td>985</td>\n",
       "    </tr>\n",
       "    <tr>\n",
       "      <th>1</th>\n",
       "      <td>1</td>\n",
       "      <td>0</td>\n",
       "      <td>0</td>\n",
       "      <td>0</td>\n",
       "      <td>0</td>\n",
       "      <td>0</td>\n",
       "      <td>1</td>\n",
       "      <td>0</td>\n",
       "      <td>0</td>\n",
       "      <td>0</td>\n",
       "      <td>...</td>\n",
       "      <td>0</td>\n",
       "      <td>0</td>\n",
       "      <td>1</td>\n",
       "      <td>0</td>\n",
       "      <td>0</td>\n",
       "      <td>0</td>\n",
       "      <td>14.902598</td>\n",
       "      <td>69.6087</td>\n",
       "      <td>16.652113</td>\n",
       "      <td>801</td>\n",
       "    </tr>\n",
       "    <tr>\n",
       "      <th>2</th>\n",
       "      <td>1</td>\n",
       "      <td>0</td>\n",
       "      <td>0</td>\n",
       "      <td>0</td>\n",
       "      <td>0</td>\n",
       "      <td>0</td>\n",
       "      <td>1</td>\n",
       "      <td>0</td>\n",
       "      <td>0</td>\n",
       "      <td>0</td>\n",
       "      <td>...</td>\n",
       "      <td>0</td>\n",
       "      <td>0</td>\n",
       "      <td>0</td>\n",
       "      <td>0</td>\n",
       "      <td>0</td>\n",
       "      <td>1</td>\n",
       "      <td>8.050924</td>\n",
       "      <td>43.7273</td>\n",
       "      <td>16.636703</td>\n",
       "      <td>1349</td>\n",
       "    </tr>\n",
       "    <tr>\n",
       "      <th>3</th>\n",
       "      <td>1</td>\n",
       "      <td>0</td>\n",
       "      <td>0</td>\n",
       "      <td>0</td>\n",
       "      <td>0</td>\n",
       "      <td>0</td>\n",
       "      <td>1</td>\n",
       "      <td>0</td>\n",
       "      <td>0</td>\n",
       "      <td>0</td>\n",
       "      <td>...</td>\n",
       "      <td>0</td>\n",
       "      <td>0</td>\n",
       "      <td>0</td>\n",
       "      <td>0</td>\n",
       "      <td>0</td>\n",
       "      <td>1</td>\n",
       "      <td>8.200000</td>\n",
       "      <td>59.0435</td>\n",
       "      <td>10.739832</td>\n",
       "      <td>1562</td>\n",
       "    </tr>\n",
       "    <tr>\n",
       "      <th>4</th>\n",
       "      <td>1</td>\n",
       "      <td>0</td>\n",
       "      <td>0</td>\n",
       "      <td>0</td>\n",
       "      <td>0</td>\n",
       "      <td>0</td>\n",
       "      <td>1</td>\n",
       "      <td>0</td>\n",
       "      <td>0</td>\n",
       "      <td>0</td>\n",
       "      <td>...</td>\n",
       "      <td>1</td>\n",
       "      <td>0</td>\n",
       "      <td>0</td>\n",
       "      <td>0</td>\n",
       "      <td>0</td>\n",
       "      <td>1</td>\n",
       "      <td>9.305237</td>\n",
       "      <td>43.6957</td>\n",
       "      <td>12.522300</td>\n",
       "      <td>1600</td>\n",
       "    </tr>\n",
       "  </tbody>\n",
       "</table>\n",
       "<p>5 rows × 29 columns</p>\n",
       "</div>"
      ],
      "text/plain": [
       "   spring  summer  winter  August  December  Feburary  January  July  June  \\\n",
       "0       1       0       0       0         0         0        1     0     0   \n",
       "1       1       0       0       0         0         0        1     0     0   \n",
       "2       1       0       0       0         0         0        1     0     0   \n",
       "3       1       0       0       0         0         0        1     0     0   \n",
       "4       1       0       0       0         0         0        1     0     0   \n",
       "\n",
       "   March  ...  Wednesday  Light rain_Light snow_Thunderstorm  Mist_cloudy  yr  \\\n",
       "0      0  ...          0                                   0            1   0   \n",
       "1      0  ...          0                                   0            1   0   \n",
       "2      0  ...          0                                   0            0   0   \n",
       "3      0  ...          0                                   0            0   0   \n",
       "4      0  ...          1                                   0            0   0   \n",
       "\n",
       "   holiday  workingday       temp      hum  windspeed   cnt  \n",
       "0        0           0  14.110847  80.5833  10.749882   985  \n",
       "1        0           0  14.902598  69.6087  16.652113   801  \n",
       "2        0           1   8.050924  43.7273  16.636703  1349  \n",
       "3        0           1   8.200000  59.0435  10.739832  1562  \n",
       "4        0           1   9.305237  43.6957  12.522300  1600  \n",
       "\n",
       "[5 rows x 29 columns]"
      ]
     },
     "execution_count": 31,
     "metadata": {},
     "output_type": "execute_result"
    }
   ],
   "source": [
    "# Again reading data\n",
    "df1.head()"
   ]
  },
  {
   "cell_type": "code",
   "execution_count": 32,
   "metadata": {
    "colab": {
     "base_uri": "https://localhost:8080/"
    },
    "id": "V_rXBJ9RGwFX",
    "outputId": "2c78a7c7-e858-4ed3-a381-b82ad1152ec7"
   },
   "outputs": [
    {
     "name": "stdout",
     "output_type": "stream",
     "text": [
      "<class 'pandas.core.frame.DataFrame'>\n",
      "RangeIndex: 730 entries, 0 to 729\n",
      "Data columns (total 29 columns):\n",
      " #   Column                              Non-Null Count  Dtype  \n",
      "---  ------                              --------------  -----  \n",
      " 0   spring                              730 non-null    uint8  \n",
      " 1   summer                              730 non-null    uint8  \n",
      " 2   winter                              730 non-null    uint8  \n",
      " 3   August                              730 non-null    uint8  \n",
      " 4   December                            730 non-null    uint8  \n",
      " 5   Feburary                            730 non-null    uint8  \n",
      " 6   January                             730 non-null    uint8  \n",
      " 7   July                                730 non-null    uint8  \n",
      " 8   June                                730 non-null    uint8  \n",
      " 9   March                               730 non-null    uint8  \n",
      " 10  May                                 730 non-null    uint8  \n",
      " 11  November                            730 non-null    uint8  \n",
      " 12  October                             730 non-null    uint8  \n",
      " 13  September                           730 non-null    uint8  \n",
      " 14  Monday                              730 non-null    uint8  \n",
      " 15  Saturday                            730 non-null    uint8  \n",
      " 16  Sunday                              730 non-null    uint8  \n",
      " 17  Thursday                            730 non-null    uint8  \n",
      " 18  Tuesday                             730 non-null    uint8  \n",
      " 19  Wednesday                           730 non-null    uint8  \n",
      " 20  Light rain_Light snow_Thunderstorm  730 non-null    uint8  \n",
      " 21  Mist_cloudy                         730 non-null    uint8  \n",
      " 22  yr                                  730 non-null    int64  \n",
      " 23  holiday                             730 non-null    int64  \n",
      " 24  workingday                          730 non-null    int64  \n",
      " 25  temp                                730 non-null    float64\n",
      " 26  hum                                 730 non-null    float64\n",
      " 27  windspeed                           730 non-null    float64\n",
      " 28  cnt                                 730 non-null    int64  \n",
      "dtypes: float64(3), int64(4), uint8(22)\n",
      "memory usage: 55.7 KB\n"
     ]
    }
   ],
   "source": [
    "df1.info()"
   ]
  },
  {
   "cell_type": "code",
   "execution_count": 33,
   "metadata": {},
   "outputs": [
    {
     "data": {
      "text/plain": [
       "Index(['spring', 'summer', 'winter', 'August', 'December', 'Feburary',\n",
       "       'January', 'July', 'June', 'March', 'May', 'November', 'October',\n",
       "       'September', 'Monday', 'Saturday', 'Sunday', 'Thursday', 'Tuesday',\n",
       "       'Wednesday', 'Light rain_Light snow_Thunderstorm', 'Mist_cloudy', 'yr',\n",
       "       'holiday', 'workingday', 'temp', 'hum', 'windspeed', 'cnt'],\n",
       "      dtype='object')"
      ]
     },
     "execution_count": 33,
     "metadata": {},
     "output_type": "execute_result"
    }
   ],
   "source": [
    "# Checking columns again after dropping not necessary columns\n",
    "df1.columns"
   ]
  },
  {
   "cell_type": "markdown",
   "metadata": {
    "id": "-vrWLZf4G0DM"
   },
   "source": [
    "## **Train-Test Split**"
   ]
  },
  {
   "cell_type": "code",
   "execution_count": 34,
   "metadata": {
    "id": "da_JZcnmG5P-"
   },
   "outputs": [],
   "source": [
    "# Spliting columns into two portion \n",
    "X=df1.drop([\"cnt\"],axis=1)   # X = features \n",
    "y=df1[\"cnt\"]   # y = target column"
   ]
  },
  {
   "cell_type": "code",
   "execution_count": 35,
   "metadata": {
    "id": "jyamNrL8G7wY"
   },
   "outputs": [],
   "source": [
    "# Spliting data into 4 parts as X_train,X_test,y_train,y_test\n",
    "from sklearn.model_selection import train_test_split\n",
    "X_train,X_test,y_train,y_test=train_test_split(X,y,test_size=0.3,random_state=100)"
   ]
  },
  {
   "cell_type": "code",
   "execution_count": 36,
   "metadata": {
    "colab": {
     "base_uri": "https://localhost:8080/"
    },
    "id": "4P4deX89G91Z",
    "outputId": "48097e1a-a2e0-44be-be85-90fb50dc34eb"
   },
   "outputs": [
    {
     "data": {
      "text/plain": [
       "(511, 28)"
      ]
     },
     "execution_count": 36,
     "metadata": {},
     "output_type": "execute_result"
    }
   ],
   "source": [
    "# Measiring X_train shape\n",
    "X_train.shape"
   ]
  },
  {
   "cell_type": "code",
   "execution_count": 37,
   "metadata": {
    "colab": {
     "base_uri": "https://localhost:8080/"
    },
    "id": "eH3nplRJHAjB",
    "outputId": "1b09768e-9cd0-4f67-995d-eb3f0d5eb8ba"
   },
   "outputs": [
    {
     "data": {
      "text/plain": [
       "(219, 28)"
      ]
     },
     "execution_count": 37,
     "metadata": {},
     "output_type": "execute_result"
    }
   ],
   "source": [
    "# Measiring X_test shape\n",
    "X_test.shape"
   ]
  },
  {
   "cell_type": "markdown",
   "metadata": {
    "id": "WC7bIsvKHCS5"
   },
   "source": [
    "## **Scalling**"
   ]
  },
  {
   "cell_type": "code",
   "execution_count": 38,
   "metadata": {},
   "outputs": [],
   "source": [
    "from sklearn.preprocessing import MinMaxScaler"
   ]
  },
  {
   "cell_type": "code",
   "execution_count": 39,
   "metadata": {},
   "outputs": [],
   "source": [
    "scaler = MinMaxScaler()"
   ]
  },
  {
   "cell_type": "code",
   "execution_count": 40,
   "metadata": {},
   "outputs": [
    {
     "data": {
      "text/html": [
       "<div>\n",
       "<style scoped>\n",
       "    .dataframe tbody tr th:only-of-type {\n",
       "        vertical-align: middle;\n",
       "    }\n",
       "\n",
       "    .dataframe tbody tr th {\n",
       "        vertical-align: top;\n",
       "    }\n",
       "\n",
       "    .dataframe thead th {\n",
       "        text-align: right;\n",
       "    }\n",
       "</style>\n",
       "<table border=\"1\" class=\"dataframe\">\n",
       "  <thead>\n",
       "    <tr style=\"text-align: right;\">\n",
       "      <th></th>\n",
       "      <th>spring</th>\n",
       "      <th>summer</th>\n",
       "      <th>winter</th>\n",
       "      <th>August</th>\n",
       "      <th>December</th>\n",
       "      <th>Feburary</th>\n",
       "      <th>January</th>\n",
       "      <th>July</th>\n",
       "      <th>June</th>\n",
       "      <th>March</th>\n",
       "      <th>...</th>\n",
       "      <th>Tuesday</th>\n",
       "      <th>Wednesday</th>\n",
       "      <th>Light rain_Light snow_Thunderstorm</th>\n",
       "      <th>Mist_cloudy</th>\n",
       "      <th>yr</th>\n",
       "      <th>holiday</th>\n",
       "      <th>workingday</th>\n",
       "      <th>temp</th>\n",
       "      <th>hum</th>\n",
       "      <th>windspeed</th>\n",
       "    </tr>\n",
       "  </thead>\n",
       "  <tbody>\n",
       "    <tr>\n",
       "      <th>653</th>\n",
       "      <td>0</td>\n",
       "      <td>0</td>\n",
       "      <td>1</td>\n",
       "      <td>0</td>\n",
       "      <td>0</td>\n",
       "      <td>0</td>\n",
       "      <td>0</td>\n",
       "      <td>0</td>\n",
       "      <td>0</td>\n",
       "      <td>0</td>\n",
       "      <td>...</td>\n",
       "      <td>1</td>\n",
       "      <td>0</td>\n",
       "      <td>0</td>\n",
       "      <td>0</td>\n",
       "      <td>1</td>\n",
       "      <td>0</td>\n",
       "      <td>1</td>\n",
       "      <td>0.509887</td>\n",
       "      <td>0.575354</td>\n",
       "      <td>0.300794</td>\n",
       "    </tr>\n",
       "    <tr>\n",
       "      <th>576</th>\n",
       "      <td>0</td>\n",
       "      <td>0</td>\n",
       "      <td>0</td>\n",
       "      <td>0</td>\n",
       "      <td>0</td>\n",
       "      <td>0</td>\n",
       "      <td>0</td>\n",
       "      <td>1</td>\n",
       "      <td>0</td>\n",
       "      <td>0</td>\n",
       "      <td>...</td>\n",
       "      <td>1</td>\n",
       "      <td>0</td>\n",
       "      <td>0</td>\n",
       "      <td>0</td>\n",
       "      <td>1</td>\n",
       "      <td>0</td>\n",
       "      <td>1</td>\n",
       "      <td>0.815169</td>\n",
       "      <td>0.725633</td>\n",
       "      <td>0.264686</td>\n",
       "    </tr>\n",
       "    <tr>\n",
       "      <th>426</th>\n",
       "      <td>1</td>\n",
       "      <td>0</td>\n",
       "      <td>0</td>\n",
       "      <td>0</td>\n",
       "      <td>0</td>\n",
       "      <td>0</td>\n",
       "      <td>0</td>\n",
       "      <td>0</td>\n",
       "      <td>0</td>\n",
       "      <td>1</td>\n",
       "      <td>...</td>\n",
       "      <td>0</td>\n",
       "      <td>0</td>\n",
       "      <td>0</td>\n",
       "      <td>1</td>\n",
       "      <td>1</td>\n",
       "      <td>0</td>\n",
       "      <td>0</td>\n",
       "      <td>0.442393</td>\n",
       "      <td>0.640189</td>\n",
       "      <td>0.255342</td>\n",
       "    </tr>\n",
       "    <tr>\n",
       "      <th>728</th>\n",
       "      <td>1</td>\n",
       "      <td>0</td>\n",
       "      <td>0</td>\n",
       "      <td>0</td>\n",
       "      <td>1</td>\n",
       "      <td>0</td>\n",
       "      <td>0</td>\n",
       "      <td>0</td>\n",
       "      <td>0</td>\n",
       "      <td>0</td>\n",
       "      <td>...</td>\n",
       "      <td>0</td>\n",
       "      <td>0</td>\n",
       "      <td>0</td>\n",
       "      <td>0</td>\n",
       "      <td>1</td>\n",
       "      <td>0</td>\n",
       "      <td>0</td>\n",
       "      <td>0.245101</td>\n",
       "      <td>0.498067</td>\n",
       "      <td>0.663106</td>\n",
       "    </tr>\n",
       "    <tr>\n",
       "      <th>482</th>\n",
       "      <td>0</td>\n",
       "      <td>1</td>\n",
       "      <td>0</td>\n",
       "      <td>0</td>\n",
       "      <td>0</td>\n",
       "      <td>0</td>\n",
       "      <td>0</td>\n",
       "      <td>0</td>\n",
       "      <td>0</td>\n",
       "      <td>0</td>\n",
       "      <td>...</td>\n",
       "      <td>0</td>\n",
       "      <td>0</td>\n",
       "      <td>0</td>\n",
       "      <td>1</td>\n",
       "      <td>1</td>\n",
       "      <td>0</td>\n",
       "      <td>0</td>\n",
       "      <td>0.395666</td>\n",
       "      <td>0.504508</td>\n",
       "      <td>0.188475</td>\n",
       "    </tr>\n",
       "  </tbody>\n",
       "</table>\n",
       "<p>5 rows × 28 columns</p>\n",
       "</div>"
      ],
      "text/plain": [
       "     spring  summer  winter  August  December  Feburary  January  July  June  \\\n",
       "653       0       0       1       0         0         0        0     0     0   \n",
       "576       0       0       0       0         0         0        0     1     0   \n",
       "426       1       0       0       0         0         0        0     0     0   \n",
       "728       1       0       0       0         1         0        0     0     0   \n",
       "482       0       1       0       0         0         0        0     0     0   \n",
       "\n",
       "     March  ...  Tuesday  Wednesday  Light rain_Light snow_Thunderstorm  \\\n",
       "653      0  ...        1          0                                   0   \n",
       "576      0  ...        1          0                                   0   \n",
       "426      1  ...        0          0                                   0   \n",
       "728      0  ...        0          0                                   0   \n",
       "482      0  ...        0          0                                   0   \n",
       "\n",
       "     Mist_cloudy  yr  holiday  workingday      temp       hum  windspeed  \n",
       "653            0   1        0           1  0.509887  0.575354   0.300794  \n",
       "576            0   1        0           1  0.815169  0.725633   0.264686  \n",
       "426            1   1        0           0  0.442393  0.640189   0.255342  \n",
       "728            0   1        0           0  0.245101  0.498067   0.663106  \n",
       "482            1   1        0           0  0.395666  0.504508   0.188475  \n",
       "\n",
       "[5 rows x 28 columns]"
      ]
     },
     "execution_count": 40,
     "metadata": {},
     "output_type": "execute_result"
    }
   ],
   "source": [
    "X_train[cont_cols] = scaler.fit_transform(X_train[cont_cols])\n",
    "X_train.head()"
   ]
  },
  {
   "cell_type": "code",
   "execution_count": 41,
   "metadata": {},
   "outputs": [
    {
     "data": {
      "text/html": [
       "<div>\n",
       "<style scoped>\n",
       "    .dataframe tbody tr th:only-of-type {\n",
       "        vertical-align: middle;\n",
       "    }\n",
       "\n",
       "    .dataframe tbody tr th {\n",
       "        vertical-align: top;\n",
       "    }\n",
       "\n",
       "    .dataframe thead th {\n",
       "        text-align: right;\n",
       "    }\n",
       "</style>\n",
       "<table border=\"1\" class=\"dataframe\">\n",
       "  <thead>\n",
       "    <tr style=\"text-align: right;\">\n",
       "      <th></th>\n",
       "      <th>spring</th>\n",
       "      <th>summer</th>\n",
       "      <th>winter</th>\n",
       "      <th>August</th>\n",
       "      <th>December</th>\n",
       "      <th>Feburary</th>\n",
       "      <th>January</th>\n",
       "      <th>July</th>\n",
       "      <th>June</th>\n",
       "      <th>March</th>\n",
       "      <th>...</th>\n",
       "      <th>Tuesday</th>\n",
       "      <th>Wednesday</th>\n",
       "      <th>Light rain_Light snow_Thunderstorm</th>\n",
       "      <th>Mist_cloudy</th>\n",
       "      <th>yr</th>\n",
       "      <th>holiday</th>\n",
       "      <th>workingday</th>\n",
       "      <th>temp</th>\n",
       "      <th>hum</th>\n",
       "      <th>windspeed</th>\n",
       "    </tr>\n",
       "  </thead>\n",
       "  <tbody>\n",
       "    <tr>\n",
       "      <th>184</th>\n",
       "      <td>0</td>\n",
       "      <td>0</td>\n",
       "      <td>0</td>\n",
       "      <td>0</td>\n",
       "      <td>0</td>\n",
       "      <td>0</td>\n",
       "      <td>0</td>\n",
       "      <td>1</td>\n",
       "      <td>0</td>\n",
       "      <td>0</td>\n",
       "      <td>...</td>\n",
       "      <td>0</td>\n",
       "      <td>0</td>\n",
       "      <td>0</td>\n",
       "      <td>1</td>\n",
       "      <td>0</td>\n",
       "      <td>1</td>\n",
       "      <td>0</td>\n",
       "      <td>0.831783</td>\n",
       "      <td>0.657364</td>\n",
       "      <td>0.084219</td>\n",
       "    </tr>\n",
       "    <tr>\n",
       "      <th>535</th>\n",
       "      <td>0</td>\n",
       "      <td>1</td>\n",
       "      <td>0</td>\n",
       "      <td>0</td>\n",
       "      <td>0</td>\n",
       "      <td>0</td>\n",
       "      <td>0</td>\n",
       "      <td>0</td>\n",
       "      <td>1</td>\n",
       "      <td>0</td>\n",
       "      <td>...</td>\n",
       "      <td>0</td>\n",
       "      <td>1</td>\n",
       "      <td>0</td>\n",
       "      <td>0</td>\n",
       "      <td>1</td>\n",
       "      <td>0</td>\n",
       "      <td>1</td>\n",
       "      <td>0.901354</td>\n",
       "      <td>0.610133</td>\n",
       "      <td>0.153728</td>\n",
       "    </tr>\n",
       "    <tr>\n",
       "      <th>299</th>\n",
       "      <td>0</td>\n",
       "      <td>0</td>\n",
       "      <td>1</td>\n",
       "      <td>0</td>\n",
       "      <td>0</td>\n",
       "      <td>0</td>\n",
       "      <td>0</td>\n",
       "      <td>0</td>\n",
       "      <td>0</td>\n",
       "      <td>0</td>\n",
       "      <td>...</td>\n",
       "      <td>0</td>\n",
       "      <td>0</td>\n",
       "      <td>0</td>\n",
       "      <td>1</td>\n",
       "      <td>0</td>\n",
       "      <td>0</td>\n",
       "      <td>1</td>\n",
       "      <td>0.511964</td>\n",
       "      <td>0.837699</td>\n",
       "      <td>0.334206</td>\n",
       "    </tr>\n",
       "    <tr>\n",
       "      <th>221</th>\n",
       "      <td>0</td>\n",
       "      <td>0</td>\n",
       "      <td>0</td>\n",
       "      <td>1</td>\n",
       "      <td>0</td>\n",
       "      <td>0</td>\n",
       "      <td>0</td>\n",
       "      <td>0</td>\n",
       "      <td>0</td>\n",
       "      <td>0</td>\n",
       "      <td>...</td>\n",
       "      <td>0</td>\n",
       "      <td>1</td>\n",
       "      <td>0</td>\n",
       "      <td>0</td>\n",
       "      <td>0</td>\n",
       "      <td>0</td>\n",
       "      <td>1</td>\n",
       "      <td>0.881625</td>\n",
       "      <td>0.437098</td>\n",
       "      <td>0.339570</td>\n",
       "    </tr>\n",
       "    <tr>\n",
       "      <th>152</th>\n",
       "      <td>0</td>\n",
       "      <td>1</td>\n",
       "      <td>0</td>\n",
       "      <td>0</td>\n",
       "      <td>0</td>\n",
       "      <td>0</td>\n",
       "      <td>0</td>\n",
       "      <td>0</td>\n",
       "      <td>1</td>\n",
       "      <td>0</td>\n",
       "      <td>...</td>\n",
       "      <td>0</td>\n",
       "      <td>0</td>\n",
       "      <td>0</td>\n",
       "      <td>0</td>\n",
       "      <td>0</td>\n",
       "      <td>0</td>\n",
       "      <td>1</td>\n",
       "      <td>0.817246</td>\n",
       "      <td>0.314298</td>\n",
       "      <td>0.537414</td>\n",
       "    </tr>\n",
       "  </tbody>\n",
       "</table>\n",
       "<p>5 rows × 28 columns</p>\n",
       "</div>"
      ],
      "text/plain": [
       "     spring  summer  winter  August  December  Feburary  January  July  June  \\\n",
       "184       0       0       0       0         0         0        0     1     0   \n",
       "535       0       1       0       0         0         0        0     0     1   \n",
       "299       0       0       1       0         0         0        0     0     0   \n",
       "221       0       0       0       1         0         0        0     0     0   \n",
       "152       0       1       0       0         0         0        0     0     1   \n",
       "\n",
       "     March  ...  Tuesday  Wednesday  Light rain_Light snow_Thunderstorm  \\\n",
       "184      0  ...        0          0                                   0   \n",
       "535      0  ...        0          1                                   0   \n",
       "299      0  ...        0          0                                   0   \n",
       "221      0  ...        0          1                                   0   \n",
       "152      0  ...        0          0                                   0   \n",
       "\n",
       "     Mist_cloudy  yr  holiday  workingday      temp       hum  windspeed  \n",
       "184            1   0        1           0  0.831783  0.657364   0.084219  \n",
       "535            0   1        0           1  0.901354  0.610133   0.153728  \n",
       "299            1   0        0           1  0.511964  0.837699   0.334206  \n",
       "221            0   0        0           1  0.881625  0.437098   0.339570  \n",
       "152            0   0        0           1  0.817246  0.314298   0.537414  \n",
       "\n",
       "[5 rows x 28 columns]"
      ]
     },
     "execution_count": 41,
     "metadata": {},
     "output_type": "execute_result"
    }
   ],
   "source": [
    "X_test[cont_cols] = scaler.transform(X_test[cont_cols])\n",
    "X_test.head()"
   ]
  },
  {
   "cell_type": "code",
   "execution_count": 42,
   "metadata": {
    "id": "Av_m380YHGZP"
   },
   "outputs": [],
   "source": [
    "#Standardization\n",
    "X_train=(X_train-X_train.mean())/X_train.std()"
   ]
  },
  {
   "cell_type": "code",
   "execution_count": 43,
   "metadata": {
    "id": "aSxwkfJDHK3o"
   },
   "outputs": [],
   "source": [
    "X_test=(X_test-X_test.mean())/X_test.std()"
   ]
  },
  {
   "cell_type": "markdown",
   "metadata": {
    "id": "O-bLnaqSHLp4"
   },
   "source": [
    "## **Modelling**"
   ]
  },
  {
   "cell_type": "markdown",
   "metadata": {
    "id": "udp2RfUJHQ5v"
   },
   "source": [
    "### **Feature Selection**"
   ]
  },
  {
   "cell_type": "code",
   "execution_count": 44,
   "metadata": {
    "colab": {
     "base_uri": "https://localhost:8080/"
    },
    "id": "XCrwvr32HU93",
    "outputId": "08bdc550-e046-44c4-d728-ec04449fb244"
   },
   "outputs": [
    {
     "data": {
      "text/plain": [
       "RFE(estimator=LinearRegression(), n_features_to_select=15)"
      ]
     },
     "execution_count": 44,
     "metadata": {},
     "output_type": "execute_result"
    }
   ],
   "source": [
    "# Building a Lienar Regression model using SKLearn for RFE\n",
    "from sklearn.feature_selection import RFE\n",
    "from sklearn.linear_model import LinearRegression\n",
    "\n",
    "estimator=LinearRegression()\n",
    "selector=RFE(estimator,n_features_to_select=15)#15\n",
    "\n",
    "selector=selector.fit(X_train,y_train)\n",
    "selector.support_\n",
    "selector"
   ]
  },
  {
   "cell_type": "code",
   "execution_count": 45,
   "metadata": {
    "colab": {
     "base_uri": "https://localhost:8080/"
    },
    "id": "TfTIuB-3HYix",
    "outputId": "e9f5cdab-21ef-45c0-f850-1d05ac104e84"
   },
   "outputs": [
    {
     "data": {
      "text/plain": [
       "['spring',\n",
       " 'winter',\n",
       " 'January',\n",
       " 'July',\n",
       " 'November',\n",
       " 'Saturday',\n",
       " 'Sunday',\n",
       " 'Light rain_Light snow_Thunderstorm',\n",
       " 'Mist_cloudy',\n",
       " 'yr',\n",
       " 'holiday',\n",
       " 'workingday',\n",
       " 'temp',\n",
       " 'hum',\n",
       " 'windspeed']"
      ]
     },
     "execution_count": 45,
     "metadata": {},
     "output_type": "execute_result"
    }
   ],
   "source": [
    "# Columns selected by RFE\n",
    "selected_features = list(X_train.columns[selector.support_])\n",
    "selected_features"
   ]
  },
  {
   "cell_type": "code",
   "execution_count": 46,
   "metadata": {},
   "outputs": [
    {
     "data": {
      "text/plain": [
       "15"
      ]
     },
     "execution_count": 46,
     "metadata": {},
     "output_type": "execute_result"
    }
   ],
   "source": [
    "sf = len(selected_features)\n",
    "sf"
   ]
  },
  {
   "cell_type": "code",
   "execution_count": 47,
   "metadata": {
    "id": "3XzvrwlMHaRN"
   },
   "outputs": [],
   "source": [
    "# Assigning changes of selected_feature into X_train and X_test\n",
    "X_train = X_train[selected_features]\n",
    "X_test = X_test[selected_features]"
   ]
  },
  {
   "cell_type": "code",
   "execution_count": 48,
   "metadata": {
    "id": "BMvumwvlIvRJ"
   },
   "outputs": [],
   "source": [
    "# Saving above changes into X_train-sm and X_test_sm\n",
    "import statsmodels.api as sm\n",
    "X_train_sm = sm.add_constant(X_train)\n",
    "X_test_sm = sm.add_constant(X_test)"
   ]
  },
  {
   "cell_type": "code",
   "execution_count": 49,
   "metadata": {
    "colab": {
     "base_uri": "https://localhost:8080/",
     "height": 644
    },
    "id": "6CMFXTnPHcaU",
    "outputId": "3dc867f6-5ab1-4230-f723-7e3a819a1696"
   },
   "outputs": [
    {
     "data": {
      "text/html": [
       "<table class=\"simpletable\">\n",
       "<caption>OLS Regression Results</caption>\n",
       "<tr>\n",
       "  <th>Dep. Variable:</th>           <td>cnt</td>       <th>  R-squared:         </th> <td>   0.841</td> \n",
       "</tr>\n",
       "<tr>\n",
       "  <th>Model:</th>                   <td>OLS</td>       <th>  Adj. R-squared:    </th> <td>   0.837</td> \n",
       "</tr>\n",
       "<tr>\n",
       "  <th>Method:</th>             <td>Least Squares</td>  <th>  F-statistic:       </th> <td>   187.5</td> \n",
       "</tr>\n",
       "<tr>\n",
       "  <th>Date:</th>             <td>Wed, 10 May 2023</td> <th>  Prob (F-statistic):</th> <td>9.31e-188</td>\n",
       "</tr>\n",
       "<tr>\n",
       "  <th>Time:</th>                 <td>19:06:20</td>     <th>  Log-Likelihood:    </th> <td> -4126.6</td> \n",
       "</tr>\n",
       "<tr>\n",
       "  <th>No. Observations:</th>      <td>   511</td>      <th>  AIC:               </th> <td>   8283.</td> \n",
       "</tr>\n",
       "<tr>\n",
       "  <th>Df Residuals:</th>          <td>   496</td>      <th>  BIC:               </th> <td>   8347.</td> \n",
       "</tr>\n",
       "<tr>\n",
       "  <th>Df Model:</th>              <td>    14</td>      <th>                     </th>     <td> </td>    \n",
       "</tr>\n",
       "<tr>\n",
       "  <th>Covariance Type:</th>      <td>nonrobust</td>    <th>                     </th>     <td> </td>    \n",
       "</tr>\n",
       "</table>\n",
       "<table class=\"simpletable\">\n",
       "<tr>\n",
       "                   <td></td>                     <th>coef</th>     <th>std err</th>      <th>t</th>      <th>P>|t|</th>  <th>[0.025</th>    <th>0.975]</th>  \n",
       "</tr>\n",
       "<tr>\n",
       "  <th>const</th>                              <td> 4491.3033</td> <td>   34.928</td> <td>  128.587</td> <td> 0.000</td> <td> 4422.678</td> <td> 4559.929</td>\n",
       "</tr>\n",
       "<tr>\n",
       "  <th>spring</th>                             <td> -387.8562</td> <td>   57.922</td> <td>   -6.696</td> <td> 0.000</td> <td> -501.659</td> <td> -274.054</td>\n",
       "</tr>\n",
       "<tr>\n",
       "  <th>winter</th>                             <td>  235.4559</td> <td>   51.177</td> <td>    4.601</td> <td> 0.000</td> <td>  134.905</td> <td>  336.007</td>\n",
       "</tr>\n",
       "<tr>\n",
       "  <th>January</th>                            <td>  -97.5700</td> <td>   43.864</td> <td>   -2.224</td> <td> 0.027</td> <td> -183.752</td> <td>  -11.388</td>\n",
       "</tr>\n",
       "<tr>\n",
       "  <th>July</th>                               <td> -196.8124</td> <td>   39.484</td> <td>   -4.985</td> <td> 0.000</td> <td> -274.390</td> <td> -119.235</td>\n",
       "</tr>\n",
       "<tr>\n",
       "  <th>November</th>                           <td>  -87.5947</td> <td>   43.198</td> <td>   -2.028</td> <td> 0.043</td> <td> -172.468</td> <td>   -2.721</td>\n",
       "</tr>\n",
       "<tr>\n",
       "  <th>Saturday</th>                           <td>-2.987e+14</td> <td> 9.23e+15</td> <td>   -0.032</td> <td> 0.974</td> <td>-1.84e+16</td> <td> 1.78e+16</td>\n",
       "</tr>\n",
       "<tr>\n",
       "  <th>Sunday</th>                             <td>-2.892e+14</td> <td> 8.93e+15</td> <td>   -0.032</td> <td> 0.974</td> <td>-1.78e+16</td> <td> 1.73e+16</td>\n",
       "</tr>\n",
       "<tr>\n",
       "  <th>Light rain_Light snow_Thunderstorm</th> <td> -368.4545</td> <td>   39.459</td> <td>   -9.338</td> <td> 0.000</td> <td> -445.981</td> <td> -290.928</td>\n",
       "</tr>\n",
       "<tr>\n",
       "  <th>Mist_cloudy</th>                        <td> -238.4708</td> <td>   43.780</td> <td>   -5.447</td> <td> 0.000</td> <td> -324.488</td> <td> -152.454</td>\n",
       "</tr>\n",
       "<tr>\n",
       "  <th>yr</th>                                 <td> 1007.6293</td> <td>   35.583</td> <td>   28.318</td> <td> 0.000</td> <td>  937.717</td> <td> 1077.542</td>\n",
       "</tr>\n",
       "<tr>\n",
       "  <th>holiday</th>                            <td>-1.301e+14</td> <td> 4.02e+15</td> <td>   -0.032</td> <td> 0.974</td> <td>-8.02e+15</td> <td> 7.76e+15</td>\n",
       "</tr>\n",
       "<tr>\n",
       "  <th>workingday</th>                         <td>-3.864e+14</td> <td> 1.19e+16</td> <td>   -0.032</td> <td> 0.974</td> <td>-2.38e+16</td> <td> 2.31e+16</td>\n",
       "</tr>\n",
       "<tr>\n",
       "  <th>temp</th>                               <td>  922.3629</td> <td>   62.192</td> <td>   14.831</td> <td> 0.000</td> <td>  800.170</td> <td> 1044.556</td>\n",
       "</tr>\n",
       "<tr>\n",
       "  <th>hum</th>                                <td> -177.9847</td> <td>   48.343</td> <td>   -3.682</td> <td> 0.000</td> <td> -272.968</td> <td>  -83.002</td>\n",
       "</tr>\n",
       "<tr>\n",
       "  <th>windspeed</th>                          <td> -266.4667</td> <td>   38.109</td> <td>   -6.992</td> <td> 0.000</td> <td> -341.343</td> <td> -191.591</td>\n",
       "</tr>\n",
       "</table>\n",
       "<table class=\"simpletable\">\n",
       "<tr>\n",
       "  <th>Omnibus:</th>       <td>63.291</td> <th>  Durbin-Watson:     </th> <td>   1.981</td>\n",
       "</tr>\n",
       "<tr>\n",
       "  <th>Prob(Omnibus):</th> <td> 0.000</td> <th>  Jarque-Bera (JB):  </th> <td> 168.127</td>\n",
       "</tr>\n",
       "<tr>\n",
       "  <th>Skew:</th>          <td>-0.617</td> <th>  Prob(JB):          </th> <td>3.10e-37</td>\n",
       "</tr>\n",
       "<tr>\n",
       "  <th>Kurtosis:</th>      <td> 5.525</td> <th>  Cond. No.          </th> <td>7.90e+14</td>\n",
       "</tr>\n",
       "</table><br/><br/>Notes:<br/>[1] Standard Errors assume that the covariance matrix of the errors is correctly specified.<br/>[2] The smallest eigenvalue is 1.93e-27. This might indicate that there are<br/>strong multicollinearity problems or that the design matrix is singular."
      ],
      "text/plain": [
       "<class 'statsmodels.iolib.summary.Summary'>\n",
       "\"\"\"\n",
       "                            OLS Regression Results                            \n",
       "==============================================================================\n",
       "Dep. Variable:                    cnt   R-squared:                       0.841\n",
       "Model:                            OLS   Adj. R-squared:                  0.837\n",
       "Method:                 Least Squares   F-statistic:                     187.5\n",
       "Date:                Wed, 10 May 2023   Prob (F-statistic):          9.31e-188\n",
       "Time:                        19:06:20   Log-Likelihood:                -4126.6\n",
       "No. Observations:                 511   AIC:                             8283.\n",
       "Df Residuals:                     496   BIC:                             8347.\n",
       "Df Model:                          14                                         \n",
       "Covariance Type:            nonrobust                                         \n",
       "======================================================================================================\n",
       "                                         coef    std err          t      P>|t|      [0.025      0.975]\n",
       "------------------------------------------------------------------------------------------------------\n",
       "const                               4491.3033     34.928    128.587      0.000    4422.678    4559.929\n",
       "spring                              -387.8562     57.922     -6.696      0.000    -501.659    -274.054\n",
       "winter                               235.4559     51.177      4.601      0.000     134.905     336.007\n",
       "January                              -97.5700     43.864     -2.224      0.027    -183.752     -11.388\n",
       "July                                -196.8124     39.484     -4.985      0.000    -274.390    -119.235\n",
       "November                             -87.5947     43.198     -2.028      0.043    -172.468      -2.721\n",
       "Saturday                           -2.987e+14   9.23e+15     -0.032      0.974   -1.84e+16    1.78e+16\n",
       "Sunday                             -2.892e+14   8.93e+15     -0.032      0.974   -1.78e+16    1.73e+16\n",
       "Light rain_Light snow_Thunderstorm  -368.4545     39.459     -9.338      0.000    -445.981    -290.928\n",
       "Mist_cloudy                         -238.4708     43.780     -5.447      0.000    -324.488    -152.454\n",
       "yr                                  1007.6293     35.583     28.318      0.000     937.717    1077.542\n",
       "holiday                            -1.301e+14   4.02e+15     -0.032      0.974   -8.02e+15    7.76e+15\n",
       "workingday                         -3.864e+14   1.19e+16     -0.032      0.974   -2.38e+16    2.31e+16\n",
       "temp                                 922.3629     62.192     14.831      0.000     800.170    1044.556\n",
       "hum                                 -177.9847     48.343     -3.682      0.000    -272.968     -83.002\n",
       "windspeed                           -266.4667     38.109     -6.992      0.000    -341.343    -191.591\n",
       "==============================================================================\n",
       "Omnibus:                       63.291   Durbin-Watson:                   1.981\n",
       "Prob(Omnibus):                  0.000   Jarque-Bera (JB):              168.127\n",
       "Skew:                          -0.617   Prob(JB):                     3.10e-37\n",
       "Kurtosis:                       5.525   Cond. No.                     7.90e+14\n",
       "==============================================================================\n",
       "\n",
       "Notes:\n",
       "[1] Standard Errors assume that the covariance matrix of the errors is correctly specified.\n",
       "[2] The smallest eigenvalue is 1.93e-27. This might indicate that there are\n",
       "strong multicollinearity problems or that the design matrix is singular.\n",
       "\"\"\""
      ]
     },
     "execution_count": 49,
     "metadata": {},
     "output_type": "execute_result"
    }
   ],
   "source": [
    "# First Model\n",
    "model1 = sm.OLS(y_train,X_train_sm)\n",
    "res1 = model1.fit()\n",
    "res1.summary()"
   ]
  },
  {
   "cell_type": "code",
   "execution_count": 50,
   "metadata": {
    "colab": {
     "base_uri": "https://localhost:8080/",
     "height": 363
    },
    "id": "vKue6Z-LJSja",
    "outputId": "dece83d6-3b13-4ce6-b896-c8ef52b7b85f"
   },
   "outputs": [
    {
     "data": {
      "text/html": [
       "<div>\n",
       "<style scoped>\n",
       "    .dataframe tbody tr th:only-of-type {\n",
       "        vertical-align: middle;\n",
       "    }\n",
       "\n",
       "    .dataframe tbody tr th {\n",
       "        vertical-align: top;\n",
       "    }\n",
       "\n",
       "    .dataframe thead th {\n",
       "        text-align: right;\n",
       "    }\n",
       "</style>\n",
       "<table border=\"1\" class=\"dataframe\">\n",
       "  <thead>\n",
       "    <tr style=\"text-align: right;\">\n",
       "      <th></th>\n",
       "      <th>Feature</th>\n",
       "      <th>VIF</th>\n",
       "    </tr>\n",
       "  </thead>\n",
       "  <tbody>\n",
       "    <tr>\n",
       "      <th>0</th>\n",
       "      <td>spring</td>\n",
       "      <td>2.723615</td>\n",
       "    </tr>\n",
       "    <tr>\n",
       "      <th>1</th>\n",
       "      <td>winter</td>\n",
       "      <td>2.125085</td>\n",
       "    </tr>\n",
       "    <tr>\n",
       "      <th>2</th>\n",
       "      <td>January</td>\n",
       "      <td>1.551844</td>\n",
       "    </tr>\n",
       "    <tr>\n",
       "      <th>3</th>\n",
       "      <td>July</td>\n",
       "      <td>1.266280</td>\n",
       "    </tr>\n",
       "    <tr>\n",
       "      <th>4</th>\n",
       "      <td>November</td>\n",
       "      <td>1.460210</td>\n",
       "    </tr>\n",
       "    <tr>\n",
       "      <th>5</th>\n",
       "      <td>Saturday</td>\n",
       "      <td>inf</td>\n",
       "    </tr>\n",
       "    <tr>\n",
       "      <th>6</th>\n",
       "      <td>Sunday</td>\n",
       "      <td>inf</td>\n",
       "    </tr>\n",
       "    <tr>\n",
       "      <th>7</th>\n",
       "      <td>Light rain_Light snow_Thunderstorm</td>\n",
       "      <td>1.247474</td>\n",
       "    </tr>\n",
       "    <tr>\n",
       "      <th>8</th>\n",
       "      <td>Mist_cloudy</td>\n",
       "      <td>1.567514</td>\n",
       "    </tr>\n",
       "    <tr>\n",
       "      <th>9</th>\n",
       "      <td>yr</td>\n",
       "      <td>1.035140</td>\n",
       "    </tr>\n",
       "    <tr>\n",
       "      <th>10</th>\n",
       "      <td>holiday</td>\n",
       "      <td>inf</td>\n",
       "    </tr>\n",
       "    <tr>\n",
       "      <th>11</th>\n",
       "      <td>workingday</td>\n",
       "      <td>inf</td>\n",
       "    </tr>\n",
       "    <tr>\n",
       "      <th>12</th>\n",
       "      <td>temp</td>\n",
       "      <td>3.161820</td>\n",
       "    </tr>\n",
       "    <tr>\n",
       "      <th>13</th>\n",
       "      <td>hum</td>\n",
       "      <td>1.891947</td>\n",
       "    </tr>\n",
       "    <tr>\n",
       "      <th>14</th>\n",
       "      <td>windspeed</td>\n",
       "      <td>1.184880</td>\n",
       "    </tr>\n",
       "  </tbody>\n",
       "</table>\n",
       "</div>"
      ],
      "text/plain": [
       "                               Feature       VIF\n",
       "0                               spring  2.723615\n",
       "1                               winter  2.125085\n",
       "2                              January  1.551844\n",
       "3                                 July  1.266280\n",
       "4                             November  1.460210\n",
       "5                             Saturday       inf\n",
       "6                               Sunday       inf\n",
       "7   Light rain_Light snow_Thunderstorm  1.247474\n",
       "8                          Mist_cloudy  1.567514\n",
       "9                                   yr  1.035140\n",
       "10                             holiday       inf\n",
       "11                          workingday       inf\n",
       "12                                temp  3.161820\n",
       "13                                 hum  1.891947\n",
       "14                           windspeed  1.184880"
      ]
     },
     "execution_count": 50,
     "metadata": {},
     "output_type": "execute_result"
    }
   ],
   "source": [
    "# Checking VIF\n",
    "from statsmodels.stats.outliers_influence import variance_inflation_factor\n",
    "\n",
    "vif_data = pd.DataFrame()\n",
    "\n",
    "vif_data[\"Feature\"]=X_train.columns\n",
    "\n",
    "vif_data[\"VIF\"] = [variance_inflation_factor(X_train.values,i) for i in range(len(X_train.columns))]\n",
    "vif_data"
   ]
  },
  {
   "cell_type": "code",
   "execution_count": 51,
   "metadata": {
    "id": "9jYxaW8PKWq5"
   },
   "outputs": [],
   "source": [
    "# Dropping season_3 because it is very closer to p_value 0.05 or (5%).\n",
    "\n",
    "X_train = X_train_sm.drop([\"Sunday\"],axis=1)\n",
    "X_test = X_test_sm.drop([\"Sunday\"],axis=1)"
   ]
  },
  {
   "cell_type": "code",
   "execution_count": 52,
   "metadata": {},
   "outputs": [],
   "source": [
    "# again adding the changes in update in x_data\n",
    "\n",
    "X_train_sm = sm.add_constant(X_train)\n",
    "X_test_sm = sm.add_constant(X_test)"
   ]
  },
  {
   "cell_type": "code",
   "execution_count": 53,
   "metadata": {
    "colab": {
     "base_uri": "https://localhost:8080/",
     "height": 622
    },
    "id": "2a457e5a",
    "outputId": "333c9000-e1be-4a56-8043-e481c8d0fa74"
   },
   "outputs": [
    {
     "data": {
      "text/html": [
       "<table class=\"simpletable\">\n",
       "<caption>OLS Regression Results</caption>\n",
       "<tr>\n",
       "  <th>Dep. Variable:</th>           <td>cnt</td>       <th>  R-squared:         </th> <td>   0.841</td> \n",
       "</tr>\n",
       "<tr>\n",
       "  <th>Model:</th>                   <td>OLS</td>       <th>  Adj. R-squared:    </th> <td>   0.837</td> \n",
       "</tr>\n",
       "<tr>\n",
       "  <th>Method:</th>             <td>Least Squares</td>  <th>  F-statistic:       </th> <td>   187.9</td> \n",
       "</tr>\n",
       "<tr>\n",
       "  <th>Date:</th>             <td>Wed, 10 May 2023</td> <th>  Prob (F-statistic):</th> <td>6.53e-188</td>\n",
       "</tr>\n",
       "<tr>\n",
       "  <th>Time:</th>                 <td>19:06:20</td>     <th>  Log-Likelihood:    </th> <td> -4126.2</td> \n",
       "</tr>\n",
       "<tr>\n",
       "  <th>No. Observations:</th>      <td>   511</td>      <th>  AIC:               </th> <td>   8282.</td> \n",
       "</tr>\n",
       "<tr>\n",
       "  <th>Df Residuals:</th>          <td>   496</td>      <th>  BIC:               </th> <td>   8346.</td> \n",
       "</tr>\n",
       "<tr>\n",
       "  <th>Df Model:</th>              <td>    14</td>      <th>                     </th>     <td> </td>    \n",
       "</tr>\n",
       "<tr>\n",
       "  <th>Covariance Type:</th>      <td>nonrobust</td>    <th>                     </th>     <td> </td>    \n",
       "</tr>\n",
       "</table>\n",
       "<table class=\"simpletable\">\n",
       "<tr>\n",
       "                   <td></td>                     <th>coef</th>     <th>std err</th>      <th>t</th>      <th>P>|t|</th>  <th>[0.025</th>    <th>0.975]</th>  \n",
       "</tr>\n",
       "<tr>\n",
       "  <th>const</th>                              <td> 4491.3033</td> <td>   34.903</td> <td>  128.679</td> <td> 0.000</td> <td> 4422.727</td> <td> 4559.880</td>\n",
       "</tr>\n",
       "<tr>\n",
       "  <th>spring</th>                             <td> -387.7743</td> <td>   57.825</td> <td>   -6.706</td> <td> 0.000</td> <td> -501.387</td> <td> -274.162</td>\n",
       "</tr>\n",
       "<tr>\n",
       "  <th>winter</th>                             <td>  235.3058</td> <td>   50.931</td> <td>    4.620</td> <td> 0.000</td> <td>  135.240</td> <td>  335.372</td>\n",
       "</tr>\n",
       "<tr>\n",
       "  <th>January</th>                            <td>  -97.7380</td> <td>   43.525</td> <td>   -2.246</td> <td> 0.025</td> <td> -183.254</td> <td>  -12.222</td>\n",
       "</tr>\n",
       "<tr>\n",
       "  <th>July</th>                               <td> -196.9141</td> <td>   39.331</td> <td>   -5.007</td> <td> 0.000</td> <td> -274.190</td> <td> -119.638</td>\n",
       "</tr>\n",
       "<tr>\n",
       "  <th>November</th>                           <td>  -87.3030</td> <td>   42.218</td> <td>   -2.068</td> <td> 0.039</td> <td> -170.251</td> <td>   -4.355</td>\n",
       "</tr>\n",
       "<tr>\n",
       "  <th>Saturday</th>                           <td>  169.8559</td> <td>   46.631</td> <td>    3.643</td> <td> 0.000</td> <td>   78.237</td> <td>  261.475</td>\n",
       "</tr>\n",
       "<tr>\n",
       "  <th>Light rain_Light snow_Thunderstorm</th> <td> -368.6372</td> <td>   39.025</td> <td>   -9.446</td> <td> 0.000</td> <td> -445.312</td> <td> -291.962</td>\n",
       "</tr>\n",
       "<tr>\n",
       "  <th>Mist_cloudy</th>                        <td> -238.4932</td> <td>   43.743</td> <td>   -5.452</td> <td> 0.000</td> <td> -324.438</td> <td> -152.549</td>\n",
       "</tr>\n",
       "<tr>\n",
       "  <th>yr</th>                                 <td> 1007.6118</td> <td>   35.553</td> <td>   28.341</td> <td> 0.000</td> <td>  937.758</td> <td> 1077.466</td>\n",
       "</tr>\n",
       "<tr>\n",
       "  <th>holiday</th>                            <td>  -62.7980</td> <td>   37.820</td> <td>   -1.660</td> <td> 0.097</td> <td> -137.104</td> <td>   11.508</td>\n",
       "</tr>\n",
       "<tr>\n",
       "  <th>workingday</th>                         <td>  181.4021</td> <td>   47.904</td> <td>    3.787</td> <td> 0.000</td> <td>   87.283</td> <td>  275.521</td>\n",
       "</tr>\n",
       "<tr>\n",
       "  <th>temp</th>                               <td>  922.3659</td> <td>   62.148</td> <td>   14.842</td> <td> 0.000</td> <td>  800.261</td> <td> 1044.471</td>\n",
       "</tr>\n",
       "<tr>\n",
       "  <th>hum</th>                                <td> -177.8340</td> <td>   48.084</td> <td>   -3.698</td> <td> 0.000</td> <td> -272.308</td> <td>  -83.360</td>\n",
       "</tr>\n",
       "<tr>\n",
       "  <th>windspeed</th>                          <td> -266.4576</td> <td>   38.081</td> <td>   -6.997</td> <td> 0.000</td> <td> -341.278</td> <td> -191.638</td>\n",
       "</tr>\n",
       "</table>\n",
       "<table class=\"simpletable\">\n",
       "<tr>\n",
       "  <th>Omnibus:</th>       <td>65.643</td> <th>  Durbin-Watson:     </th> <td>   1.985</td>\n",
       "</tr>\n",
       "<tr>\n",
       "  <th>Prob(Omnibus):</th> <td> 0.000</td> <th>  Jarque-Bera (JB):  </th> <td> 168.814</td>\n",
       "</tr>\n",
       "<tr>\n",
       "  <th>Skew:</th>          <td>-0.650</td> <th>  Prob(JB):          </th> <td>2.20e-37</td>\n",
       "</tr>\n",
       "<tr>\n",
       "  <th>Kurtosis:</th>      <td> 5.498</td> <th>  Cond. No.          </th> <td>    3.74</td>\n",
       "</tr>\n",
       "</table><br/><br/>Notes:<br/>[1] Standard Errors assume that the covariance matrix of the errors is correctly specified."
      ],
      "text/plain": [
       "<class 'statsmodels.iolib.summary.Summary'>\n",
       "\"\"\"\n",
       "                            OLS Regression Results                            \n",
       "==============================================================================\n",
       "Dep. Variable:                    cnt   R-squared:                       0.841\n",
       "Model:                            OLS   Adj. R-squared:                  0.837\n",
       "Method:                 Least Squares   F-statistic:                     187.9\n",
       "Date:                Wed, 10 May 2023   Prob (F-statistic):          6.53e-188\n",
       "Time:                        19:06:20   Log-Likelihood:                -4126.2\n",
       "No. Observations:                 511   AIC:                             8282.\n",
       "Df Residuals:                     496   BIC:                             8346.\n",
       "Df Model:                          14                                         \n",
       "Covariance Type:            nonrobust                                         \n",
       "======================================================================================================\n",
       "                                         coef    std err          t      P>|t|      [0.025      0.975]\n",
       "------------------------------------------------------------------------------------------------------\n",
       "const                               4491.3033     34.903    128.679      0.000    4422.727    4559.880\n",
       "spring                              -387.7743     57.825     -6.706      0.000    -501.387    -274.162\n",
       "winter                               235.3058     50.931      4.620      0.000     135.240     335.372\n",
       "January                              -97.7380     43.525     -2.246      0.025    -183.254     -12.222\n",
       "July                                -196.9141     39.331     -5.007      0.000    -274.190    -119.638\n",
       "November                             -87.3030     42.218     -2.068      0.039    -170.251      -4.355\n",
       "Saturday                             169.8559     46.631      3.643      0.000      78.237     261.475\n",
       "Light rain_Light snow_Thunderstorm  -368.6372     39.025     -9.446      0.000    -445.312    -291.962\n",
       "Mist_cloudy                         -238.4932     43.743     -5.452      0.000    -324.438    -152.549\n",
       "yr                                  1007.6118     35.553     28.341      0.000     937.758    1077.466\n",
       "holiday                              -62.7980     37.820     -1.660      0.097    -137.104      11.508\n",
       "workingday                           181.4021     47.904      3.787      0.000      87.283     275.521\n",
       "temp                                 922.3659     62.148     14.842      0.000     800.261    1044.471\n",
       "hum                                 -177.8340     48.084     -3.698      0.000    -272.308     -83.360\n",
       "windspeed                           -266.4576     38.081     -6.997      0.000    -341.278    -191.638\n",
       "==============================================================================\n",
       "Omnibus:                       65.643   Durbin-Watson:                   1.985\n",
       "Prob(Omnibus):                  0.000   Jarque-Bera (JB):              168.814\n",
       "Skew:                          -0.650   Prob(JB):                     2.20e-37\n",
       "Kurtosis:                       5.498   Cond. No.                         3.74\n",
       "==============================================================================\n",
       "\n",
       "Notes:\n",
       "[1] Standard Errors assume that the covariance matrix of the errors is correctly specified.\n",
       "\"\"\""
      ]
     },
     "execution_count": 53,
     "metadata": {},
     "output_type": "execute_result"
    }
   ],
   "source": [
    "# Second Model\n",
    "model2 = sm.OLS(y_train,X_train_sm)\n",
    "res2 = model2.fit()\n",
    "res2.summary()"
   ]
  },
  {
   "cell_type": "code",
   "execution_count": 54,
   "metadata": {
    "colab": {
     "base_uri": "https://localhost:8080/",
     "height": 363
    },
    "id": "QauAtogrQBco",
    "outputId": "c7c26426-c873-47e8-9026-cdc2568c2ce6"
   },
   "outputs": [
    {
     "data": {
      "text/html": [
       "<div>\n",
       "<style scoped>\n",
       "    .dataframe tbody tr th:only-of-type {\n",
       "        vertical-align: middle;\n",
       "    }\n",
       "\n",
       "    .dataframe tbody tr th {\n",
       "        vertical-align: top;\n",
       "    }\n",
       "\n",
       "    .dataframe thead th {\n",
       "        text-align: right;\n",
       "    }\n",
       "</style>\n",
       "<table border=\"1\" class=\"dataframe\">\n",
       "  <thead>\n",
       "    <tr style=\"text-align: right;\">\n",
       "      <th></th>\n",
       "      <th>Feature</th>\n",
       "      <th>VIF</th>\n",
       "    </tr>\n",
       "  </thead>\n",
       "  <tbody>\n",
       "    <tr>\n",
       "      <th>0</th>\n",
       "      <td>const</td>\n",
       "      <td>1.000000</td>\n",
       "    </tr>\n",
       "    <tr>\n",
       "      <th>1</th>\n",
       "      <td>spring</td>\n",
       "      <td>2.739387</td>\n",
       "    </tr>\n",
       "    <tr>\n",
       "      <th>2</th>\n",
       "      <td>winter</td>\n",
       "      <td>2.125085</td>\n",
       "    </tr>\n",
       "    <tr>\n",
       "      <th>3</th>\n",
       "      <td>January</td>\n",
       "      <td>1.552004</td>\n",
       "    </tr>\n",
       "    <tr>\n",
       "      <th>4</th>\n",
       "      <td>July</td>\n",
       "      <td>1.267331</td>\n",
       "    </tr>\n",
       "    <tr>\n",
       "      <th>5</th>\n",
       "      <td>November</td>\n",
       "      <td>1.460210</td>\n",
       "    </tr>\n",
       "    <tr>\n",
       "      <th>6</th>\n",
       "      <td>Saturday</td>\n",
       "      <td>1.781446</td>\n",
       "    </tr>\n",
       "    <tr>\n",
       "      <th>7</th>\n",
       "      <td>Light rain_Light snow_Thunderstorm</td>\n",
       "      <td>1.247692</td>\n",
       "    </tr>\n",
       "    <tr>\n",
       "      <th>8</th>\n",
       "      <td>Mist_cloudy</td>\n",
       "      <td>1.567604</td>\n",
       "    </tr>\n",
       "    <tr>\n",
       "      <th>9</th>\n",
       "      <td>yr</td>\n",
       "      <td>1.035579</td>\n",
       "    </tr>\n",
       "    <tr>\n",
       "      <th>10</th>\n",
       "      <td>holiday</td>\n",
       "      <td>1.171801</td>\n",
       "    </tr>\n",
       "    <tr>\n",
       "      <th>11</th>\n",
       "      <td>workingday</td>\n",
       "      <td>1.880003</td>\n",
       "    </tr>\n",
       "    <tr>\n",
       "      <th>12</th>\n",
       "      <td>temp</td>\n",
       "      <td>3.164230</td>\n",
       "    </tr>\n",
       "    <tr>\n",
       "      <th>13</th>\n",
       "      <td>hum</td>\n",
       "      <td>1.894218</td>\n",
       "    </tr>\n",
       "    <tr>\n",
       "      <th>14</th>\n",
       "      <td>windspeed</td>\n",
       "      <td>1.188060</td>\n",
       "    </tr>\n",
       "  </tbody>\n",
       "</table>\n",
       "</div>"
      ],
      "text/plain": [
       "                               Feature       VIF\n",
       "0                                const  1.000000\n",
       "1                               spring  2.739387\n",
       "2                               winter  2.125085\n",
       "3                              January  1.552004\n",
       "4                                 July  1.267331\n",
       "5                             November  1.460210\n",
       "6                             Saturday  1.781446\n",
       "7   Light rain_Light snow_Thunderstorm  1.247692\n",
       "8                          Mist_cloudy  1.567604\n",
       "9                                   yr  1.035579\n",
       "10                             holiday  1.171801\n",
       "11                          workingday  1.880003\n",
       "12                                temp  3.164230\n",
       "13                                 hum  1.894218\n",
       "14                           windspeed  1.188060"
      ]
     },
     "execution_count": 54,
     "metadata": {},
     "output_type": "execute_result"
    }
   ],
   "source": [
    "# Checking VIF again\n",
    "from statsmodels.stats.outliers_influence import variance_inflation_factor\n",
    "\n",
    "vif_data = pd.DataFrame()\n",
    "vif_data[\"Feature\"]=X_train_sm.columns\n",
    "\n",
    "vif_data[\"VIF\"]=[variance_inflation_factor(X_train_sm.values,i) for i in range(len(X_train_sm.columns))]\n",
    "vif_data"
   ]
  },
  {
   "cell_type": "code",
   "execution_count": 55,
   "metadata": {},
   "outputs": [],
   "source": [
    "# Dropping mnth because it has high p_value of 0.121\n",
    "X_train = X_train_sm.drop([\"holiday\"],axis=1)\n",
    "X_test = X_test_sm.drop([\"holiday\"],axis=1)"
   ]
  },
  {
   "cell_type": "code",
   "execution_count": 56,
   "metadata": {},
   "outputs": [],
   "source": [
    "# again adding the changes in update in x_data\n",
    "X_train_sm = sm.add_constant(X_train)\n",
    "X_test_sm = sm.add_constant(X_test)"
   ]
  },
  {
   "cell_type": "code",
   "execution_count": 57,
   "metadata": {},
   "outputs": [
    {
     "data": {
      "text/html": [
       "<table class=\"simpletable\">\n",
       "<caption>OLS Regression Results</caption>\n",
       "<tr>\n",
       "  <th>Dep. Variable:</th>           <td>cnt</td>       <th>  R-squared:         </th> <td>   0.840</td> \n",
       "</tr>\n",
       "<tr>\n",
       "  <th>Model:</th>                   <td>OLS</td>       <th>  Adj. R-squared:    </th> <td>   0.836</td> \n",
       "</tr>\n",
       "<tr>\n",
       "  <th>Method:</th>             <td>Least Squares</td>  <th>  F-statistic:       </th> <td>   201.4</td> \n",
       "</tr>\n",
       "<tr>\n",
       "  <th>Date:</th>             <td>Wed, 10 May 2023</td> <th>  Prob (F-statistic):</th> <td>1.77e-188</td>\n",
       "</tr>\n",
       "<tr>\n",
       "  <th>Time:</th>                 <td>19:06:20</td>     <th>  Log-Likelihood:    </th> <td> -4127.6</td> \n",
       "</tr>\n",
       "<tr>\n",
       "  <th>No. Observations:</th>      <td>   511</td>      <th>  AIC:               </th> <td>   8283.</td> \n",
       "</tr>\n",
       "<tr>\n",
       "  <th>Df Residuals:</th>          <td>   497</td>      <th>  BIC:               </th> <td>   8343.</td> \n",
       "</tr>\n",
       "<tr>\n",
       "  <th>Df Model:</th>              <td>    13</td>      <th>                     </th>     <td> </td>    \n",
       "</tr>\n",
       "<tr>\n",
       "  <th>Covariance Type:</th>      <td>nonrobust</td>    <th>                     </th>     <td> </td>    \n",
       "</tr>\n",
       "</table>\n",
       "<table class=\"simpletable\">\n",
       "<tr>\n",
       "                   <td></td>                     <th>coef</th>     <th>std err</th>      <th>t</th>      <th>P>|t|</th>  <th>[0.025</th>    <th>0.975]</th>  \n",
       "</tr>\n",
       "<tr>\n",
       "  <th>const</th>                              <td> 4491.3033</td> <td>   34.965</td> <td>  128.452</td> <td> 0.000</td> <td> 4422.606</td> <td> 4560.000</td>\n",
       "</tr>\n",
       "<tr>\n",
       "  <th>spring</th>                             <td> -392.1873</td> <td>   57.866</td> <td>   -6.778</td> <td> 0.000</td> <td> -505.880</td> <td> -278.495</td>\n",
       "</tr>\n",
       "<tr>\n",
       "  <th>winter</th>                             <td>  235.2876</td> <td>   51.020</td> <td>    4.612</td> <td> 0.000</td> <td>  135.045</td> <td>  335.530</td>\n",
       "</tr>\n",
       "<tr>\n",
       "  <th>January</th>                            <td>  -99.3127</td> <td>   43.591</td> <td>   -2.278</td> <td> 0.023</td> <td> -184.959</td> <td>  -13.667</td>\n",
       "</tr>\n",
       "<tr>\n",
       "  <th>July</th>                               <td> -193.9447</td> <td>   39.360</td> <td>   -4.927</td> <td> 0.000</td> <td> -271.277</td> <td> -116.613</td>\n",
       "</tr>\n",
       "<tr>\n",
       "  <th>November</th>                           <td>  -95.0889</td> <td>   42.031</td> <td>   -2.262</td> <td> 0.024</td> <td> -177.669</td> <td>  -12.509</td>\n",
       "</tr>\n",
       "<tr>\n",
       "  <th>Saturday</th>                           <td>  191.1554</td> <td>   44.911</td> <td>    4.256</td> <td> 0.000</td> <td>  102.916</td> <td>  279.395</td>\n",
       "</tr>\n",
       "<tr>\n",
       "  <th>Light rain_Light snow_Thunderstorm</th> <td> -368.1694</td> <td>   39.093</td> <td>   -9.418</td> <td> 0.000</td> <td> -444.977</td> <td> -291.362</td>\n",
       "</tr>\n",
       "<tr>\n",
       "  <th>Mist_cloudy</th>                        <td> -237.7931</td> <td>   43.818</td> <td>   -5.427</td> <td> 0.000</td> <td> -323.885</td> <td> -151.701</td>\n",
       "</tr>\n",
       "<tr>\n",
       "  <th>yr</th>                                 <td> 1008.4802</td> <td>   35.612</td> <td>   28.318</td> <td> 0.000</td> <td>  938.511</td> <td> 1078.450</td>\n",
       "</tr>\n",
       "<tr>\n",
       "  <th>workingday</th>                         <td>  208.8778</td> <td>   45.035</td> <td>    4.638</td> <td> 0.000</td> <td>  120.396</td> <td>  297.359</td>\n",
       "</tr>\n",
       "<tr>\n",
       "  <th>temp</th>                               <td>  919.2278</td> <td>   62.228</td> <td>   14.772</td> <td> 0.000</td> <td>  796.964</td> <td> 1041.491</td>\n",
       "</tr>\n",
       "<tr>\n",
       "  <th>hum</th>                                <td> -176.7501</td> <td>   48.165</td> <td>   -3.670</td> <td> 0.000</td> <td> -271.382</td> <td>  -82.118</td>\n",
       "</tr>\n",
       "<tr>\n",
       "  <th>windspeed</th>                          <td> -266.6079</td> <td>   38.148</td> <td>   -6.989</td> <td> 0.000</td> <td> -341.560</td> <td> -191.656</td>\n",
       "</tr>\n",
       "</table>\n",
       "<table class=\"simpletable\">\n",
       "<tr>\n",
       "  <th>Omnibus:</th>       <td>69.871</td> <th>  Durbin-Watson:     </th> <td>   1.972</td>\n",
       "</tr>\n",
       "<tr>\n",
       "  <th>Prob(Omnibus):</th> <td> 0.000</td> <th>  Jarque-Bera (JB):  </th> <td> 186.448</td>\n",
       "</tr>\n",
       "<tr>\n",
       "  <th>Skew:</th>          <td>-0.679</td> <th>  Prob(JB):          </th> <td>3.26e-41</td>\n",
       "</tr>\n",
       "<tr>\n",
       "  <th>Kurtosis:</th>      <td> 5.629</td> <th>  Cond. No.          </th> <td>    3.72</td>\n",
       "</tr>\n",
       "</table><br/><br/>Notes:<br/>[1] Standard Errors assume that the covariance matrix of the errors is correctly specified."
      ],
      "text/plain": [
       "<class 'statsmodels.iolib.summary.Summary'>\n",
       "\"\"\"\n",
       "                            OLS Regression Results                            \n",
       "==============================================================================\n",
       "Dep. Variable:                    cnt   R-squared:                       0.840\n",
       "Model:                            OLS   Adj. R-squared:                  0.836\n",
       "Method:                 Least Squares   F-statistic:                     201.4\n",
       "Date:                Wed, 10 May 2023   Prob (F-statistic):          1.77e-188\n",
       "Time:                        19:06:20   Log-Likelihood:                -4127.6\n",
       "No. Observations:                 511   AIC:                             8283.\n",
       "Df Residuals:                     497   BIC:                             8343.\n",
       "Df Model:                          13                                         \n",
       "Covariance Type:            nonrobust                                         \n",
       "======================================================================================================\n",
       "                                         coef    std err          t      P>|t|      [0.025      0.975]\n",
       "------------------------------------------------------------------------------------------------------\n",
       "const                               4491.3033     34.965    128.452      0.000    4422.606    4560.000\n",
       "spring                              -392.1873     57.866     -6.778      0.000    -505.880    -278.495\n",
       "winter                               235.2876     51.020      4.612      0.000     135.045     335.530\n",
       "January                              -99.3127     43.591     -2.278      0.023    -184.959     -13.667\n",
       "July                                -193.9447     39.360     -4.927      0.000    -271.277    -116.613\n",
       "November                             -95.0889     42.031     -2.262      0.024    -177.669     -12.509\n",
       "Saturday                             191.1554     44.911      4.256      0.000     102.916     279.395\n",
       "Light rain_Light snow_Thunderstorm  -368.1694     39.093     -9.418      0.000    -444.977    -291.362\n",
       "Mist_cloudy                         -237.7931     43.818     -5.427      0.000    -323.885    -151.701\n",
       "yr                                  1008.4802     35.612     28.318      0.000     938.511    1078.450\n",
       "workingday                           208.8778     45.035      4.638      0.000     120.396     297.359\n",
       "temp                                 919.2278     62.228     14.772      0.000     796.964    1041.491\n",
       "hum                                 -176.7501     48.165     -3.670      0.000    -271.382     -82.118\n",
       "windspeed                           -266.6079     38.148     -6.989      0.000    -341.560    -191.656\n",
       "==============================================================================\n",
       "Omnibus:                       69.871   Durbin-Watson:                   1.972\n",
       "Prob(Omnibus):                  0.000   Jarque-Bera (JB):              186.448\n",
       "Skew:                          -0.679   Prob(JB):                     3.26e-41\n",
       "Kurtosis:                       5.629   Cond. No.                         3.72\n",
       "==============================================================================\n",
       "\n",
       "Notes:\n",
       "[1] Standard Errors assume that the covariance matrix of the errors is correctly specified.\n",
       "\"\"\""
      ]
     },
     "execution_count": 57,
     "metadata": {},
     "output_type": "execute_result"
    }
   ],
   "source": [
    "# Third Model\n",
    "model3 = sm.OLS(y_train,X_train_sm)\n",
    "res3 = model3.fit()\n",
    "res3.summary()"
   ]
  },
  {
   "cell_type": "code",
   "execution_count": 58,
   "metadata": {
    "scrolled": false
   },
   "outputs": [
    {
     "data": {
      "text/html": [
       "<div>\n",
       "<style scoped>\n",
       "    .dataframe tbody tr th:only-of-type {\n",
       "        vertical-align: middle;\n",
       "    }\n",
       "\n",
       "    .dataframe tbody tr th {\n",
       "        vertical-align: top;\n",
       "    }\n",
       "\n",
       "    .dataframe thead th {\n",
       "        text-align: right;\n",
       "    }\n",
       "</style>\n",
       "<table border=\"1\" class=\"dataframe\">\n",
       "  <thead>\n",
       "    <tr style=\"text-align: right;\">\n",
       "      <th></th>\n",
       "      <th>Feature</th>\n",
       "      <th>VIF</th>\n",
       "    </tr>\n",
       "  </thead>\n",
       "  <tbody>\n",
       "    <tr>\n",
       "      <th>0</th>\n",
       "      <td>const</td>\n",
       "      <td>1.000000</td>\n",
       "    </tr>\n",
       "    <tr>\n",
       "      <th>1</th>\n",
       "      <td>spring</td>\n",
       "      <td>2.733601</td>\n",
       "    </tr>\n",
       "    <tr>\n",
       "      <th>2</th>\n",
       "      <td>winter</td>\n",
       "      <td>2.125085</td>\n",
       "    </tr>\n",
       "    <tr>\n",
       "      <th>3</th>\n",
       "      <td>January</td>\n",
       "      <td>1.551268</td>\n",
       "    </tr>\n",
       "    <tr>\n",
       "      <th>4</th>\n",
       "      <td>July</td>\n",
       "      <td>1.264711</td>\n",
       "    </tr>\n",
       "    <tr>\n",
       "      <th>5</th>\n",
       "      <td>November</td>\n",
       "      <td>1.442197</td>\n",
       "    </tr>\n",
       "    <tr>\n",
       "      <th>6</th>\n",
       "      <td>Saturday</td>\n",
       "      <td>1.646642</td>\n",
       "    </tr>\n",
       "    <tr>\n",
       "      <th>7</th>\n",
       "      <td>Light rain_Light snow_Thunderstorm</td>\n",
       "      <td>1.247627</td>\n",
       "    </tr>\n",
       "    <tr>\n",
       "      <th>8</th>\n",
       "      <td>Mist_cloudy</td>\n",
       "      <td>1.567458</td>\n",
       "    </tr>\n",
       "    <tr>\n",
       "      <th>9</th>\n",
       "      <td>yr</td>\n",
       "      <td>1.035355</td>\n",
       "    </tr>\n",
       "    <tr>\n",
       "      <th>10</th>\n",
       "      <td>workingday</td>\n",
       "      <td>1.655687</td>\n",
       "    </tr>\n",
       "    <tr>\n",
       "      <th>11</th>\n",
       "      <td>temp</td>\n",
       "      <td>3.161303</td>\n",
       "    </tr>\n",
       "    <tr>\n",
       "      <th>12</th>\n",
       "      <td>hum</td>\n",
       "      <td>1.893869</td>\n",
       "    </tr>\n",
       "    <tr>\n",
       "      <th>13</th>\n",
       "      <td>windspeed</td>\n",
       "      <td>1.188054</td>\n",
       "    </tr>\n",
       "  </tbody>\n",
       "</table>\n",
       "</div>"
      ],
      "text/plain": [
       "                               Feature       VIF\n",
       "0                                const  1.000000\n",
       "1                               spring  2.733601\n",
       "2                               winter  2.125085\n",
       "3                              January  1.551268\n",
       "4                                 July  1.264711\n",
       "5                             November  1.442197\n",
       "6                             Saturday  1.646642\n",
       "7   Light rain_Light snow_Thunderstorm  1.247627\n",
       "8                          Mist_cloudy  1.567458\n",
       "9                                   yr  1.035355\n",
       "10                          workingday  1.655687\n",
       "11                                temp  3.161303\n",
       "12                                 hum  1.893869\n",
       "13                           windspeed  1.188054"
      ]
     },
     "execution_count": 58,
     "metadata": {},
     "output_type": "execute_result"
    }
   ],
   "source": [
    "# Again checking VIF\n",
    "from statsmodels.stats.outliers_influence import variance_inflation_factor\n",
    "\n",
    "vif_data = pd.DataFrame()\n",
    "vif_data[\"Feature\"]=X_train_sm.columns\n",
    "\n",
    "vif_data[\"VIF\"]=[variance_inflation_factor(X_train_sm.values,i) for i in range(len(X_train_sm.columns))]\n",
    "vif_data"
   ]
  },
  {
   "cell_type": "code",
   "execution_count": 59,
   "metadata": {},
   "outputs": [],
   "source": [
    "X_train = X_train_sm.drop([\"Saturday\"],axis=1)\n",
    "X_test = X_test_sm.drop([\"Saturday\"],axis=1)"
   ]
  },
  {
   "cell_type": "code",
   "execution_count": 60,
   "metadata": {},
   "outputs": [],
   "source": [
    "X_train_sm = sm.add_constant(X_train)\n",
    "X_test_sm = sm.add_constant(X_test)"
   ]
  },
  {
   "cell_type": "code",
   "execution_count": 61,
   "metadata": {},
   "outputs": [
    {
     "data": {
      "text/html": [
       "<table class=\"simpletable\">\n",
       "<caption>OLS Regression Results</caption>\n",
       "<tr>\n",
       "  <th>Dep. Variable:</th>           <td>cnt</td>       <th>  R-squared:         </th> <td>   0.835</td> \n",
       "</tr>\n",
       "<tr>\n",
       "  <th>Model:</th>                   <td>OLS</td>       <th>  Adj. R-squared:    </th> <td>   0.831</td> \n",
       "</tr>\n",
       "<tr>\n",
       "  <th>Method:</th>             <td>Least Squares</td>  <th>  F-statistic:       </th> <td>   209.5</td> \n",
       "</tr>\n",
       "<tr>\n",
       "  <th>Date:</th>             <td>Wed, 10 May 2023</td> <th>  Prob (F-statistic):</th> <td>8.43e-186</td>\n",
       "</tr>\n",
       "<tr>\n",
       "  <th>Time:</th>                 <td>19:06:20</td>     <th>  Log-Likelihood:    </th> <td> -4136.8</td> \n",
       "</tr>\n",
       "<tr>\n",
       "  <th>No. Observations:</th>      <td>   511</td>      <th>  AIC:               </th> <td>   8300.</td> \n",
       "</tr>\n",
       "<tr>\n",
       "  <th>Df Residuals:</th>          <td>   498</td>      <th>  BIC:               </th> <td>   8355.</td> \n",
       "</tr>\n",
       "<tr>\n",
       "  <th>Df Model:</th>              <td>    12</td>      <th>                     </th>     <td> </td>    \n",
       "</tr>\n",
       "<tr>\n",
       "  <th>Covariance Type:</th>      <td>nonrobust</td>    <th>                     </th>     <td> </td>    \n",
       "</tr>\n",
       "</table>\n",
       "<table class=\"simpletable\">\n",
       "<tr>\n",
       "                   <td></td>                     <th>coef</th>     <th>std err</th>      <th>t</th>      <th>P>|t|</th>  <th>[0.025</th>    <th>0.975]</th>  \n",
       "</tr>\n",
       "<tr>\n",
       "  <th>const</th>                              <td> 4491.3033</td> <td>   35.561</td> <td>  126.300</td> <td> 0.000</td> <td> 4421.436</td> <td> 4561.171</td>\n",
       "</tr>\n",
       "<tr>\n",
       "  <th>spring</th>                             <td> -396.7680</td> <td>   58.842</td> <td>   -6.743</td> <td> 0.000</td> <td> -512.377</td> <td> -281.159</td>\n",
       "</tr>\n",
       "<tr>\n",
       "  <th>winter</th>                             <td>  236.6691</td> <td>   51.889</td> <td>    4.561</td> <td> 0.000</td> <td>  134.721</td> <td>  338.617</td>\n",
       "</tr>\n",
       "<tr>\n",
       "  <th>January</th>                            <td>  -96.7520</td> <td>   44.330</td> <td>   -2.183</td> <td> 0.030</td> <td> -183.849</td> <td>   -9.655</td>\n",
       "</tr>\n",
       "<tr>\n",
       "  <th>July</th>                               <td> -195.8255</td> <td>   40.028</td> <td>   -4.892</td> <td> 0.000</td> <td> -274.470</td> <td> -117.181</td>\n",
       "</tr>\n",
       "<tr>\n",
       "  <th>November</th>                           <td> -104.0571</td> <td>   42.693</td> <td>   -2.437</td> <td> 0.015</td> <td> -187.938</td> <td>  -20.176</td>\n",
       "</tr>\n",
       "<tr>\n",
       "  <th>Light rain_Light snow_Thunderstorm</th> <td> -355.7247</td> <td>   39.648</td> <td>   -8.972</td> <td> 0.000</td> <td> -433.622</td> <td> -277.827</td>\n",
       "</tr>\n",
       "<tr>\n",
       "  <th>Mist_cloudy</th>                        <td> -222.0040</td> <td>   44.405</td> <td>   -5.000</td> <td> 0.000</td> <td> -309.248</td> <td> -134.760</td>\n",
       "</tr>\n",
       "<tr>\n",
       "  <th>yr</th>                                 <td> 1004.8766</td> <td>   36.209</td> <td>   27.752</td> <td> 0.000</td> <td>  933.735</td> <td> 1076.018</td>\n",
       "</tr>\n",
       "<tr>\n",
       "  <th>workingday</th>                         <td>   89.6303</td> <td>   35.859</td> <td>    2.499</td> <td> 0.013</td> <td>   19.176</td> <td>  160.085</td>\n",
       "</tr>\n",
       "<tr>\n",
       "  <th>temp</th>                               <td>  921.8341</td> <td>   63.286</td> <td>   14.566</td> <td> 0.000</td> <td>  797.494</td> <td> 1046.174</td>\n",
       "</tr>\n",
       "<tr>\n",
       "  <th>hum</th>                                <td> -192.8555</td> <td>   48.834</td> <td>   -3.949</td> <td> 0.000</td> <td> -288.802</td> <td>  -96.909</td>\n",
       "</tr>\n",
       "<tr>\n",
       "  <th>windspeed</th>                          <td> -265.8839</td> <td>   38.798</td> <td>   -6.853</td> <td> 0.000</td> <td> -342.112</td> <td> -189.656</td>\n",
       "</tr>\n",
       "</table>\n",
       "<table class=\"simpletable\">\n",
       "<tr>\n",
       "  <th>Omnibus:</th>       <td>60.746</td> <th>  Durbin-Watson:     </th> <td>   1.938</td>\n",
       "</tr>\n",
       "<tr>\n",
       "  <th>Prob(Omnibus):</th> <td> 0.000</td> <th>  Jarque-Bera (JB):  </th> <td> 177.975</td>\n",
       "</tr>\n",
       "<tr>\n",
       "  <th>Skew:</th>          <td>-0.559</td> <th>  Prob(JB):          </th> <td>2.26e-39</td>\n",
       "</tr>\n",
       "<tr>\n",
       "  <th>Kurtosis:</th>      <td> 5.666</td> <th>  Cond. No.          </th> <td>    3.72</td>\n",
       "</tr>\n",
       "</table><br/><br/>Notes:<br/>[1] Standard Errors assume that the covariance matrix of the errors is correctly specified."
      ],
      "text/plain": [
       "<class 'statsmodels.iolib.summary.Summary'>\n",
       "\"\"\"\n",
       "                            OLS Regression Results                            \n",
       "==============================================================================\n",
       "Dep. Variable:                    cnt   R-squared:                       0.835\n",
       "Model:                            OLS   Adj. R-squared:                  0.831\n",
       "Method:                 Least Squares   F-statistic:                     209.5\n",
       "Date:                Wed, 10 May 2023   Prob (F-statistic):          8.43e-186\n",
       "Time:                        19:06:20   Log-Likelihood:                -4136.8\n",
       "No. Observations:                 511   AIC:                             8300.\n",
       "Df Residuals:                     498   BIC:                             8355.\n",
       "Df Model:                          12                                         \n",
       "Covariance Type:            nonrobust                                         \n",
       "======================================================================================================\n",
       "                                         coef    std err          t      P>|t|      [0.025      0.975]\n",
       "------------------------------------------------------------------------------------------------------\n",
       "const                               4491.3033     35.561    126.300      0.000    4421.436    4561.171\n",
       "spring                              -396.7680     58.842     -6.743      0.000    -512.377    -281.159\n",
       "winter                               236.6691     51.889      4.561      0.000     134.721     338.617\n",
       "January                              -96.7520     44.330     -2.183      0.030    -183.849      -9.655\n",
       "July                                -195.8255     40.028     -4.892      0.000    -274.470    -117.181\n",
       "November                            -104.0571     42.693     -2.437      0.015    -187.938     -20.176\n",
       "Light rain_Light snow_Thunderstorm  -355.7247     39.648     -8.972      0.000    -433.622    -277.827\n",
       "Mist_cloudy                         -222.0040     44.405     -5.000      0.000    -309.248    -134.760\n",
       "yr                                  1004.8766     36.209     27.752      0.000     933.735    1076.018\n",
       "workingday                            89.6303     35.859      2.499      0.013      19.176     160.085\n",
       "temp                                 921.8341     63.286     14.566      0.000     797.494    1046.174\n",
       "hum                                 -192.8555     48.834     -3.949      0.000    -288.802     -96.909\n",
       "windspeed                           -265.8839     38.798     -6.853      0.000    -342.112    -189.656\n",
       "==============================================================================\n",
       "Omnibus:                       60.746   Durbin-Watson:                   1.938\n",
       "Prob(Omnibus):                  0.000   Jarque-Bera (JB):              177.975\n",
       "Skew:                          -0.559   Prob(JB):                     2.26e-39\n",
       "Kurtosis:                       5.666   Cond. No.                         3.72\n",
       "==============================================================================\n",
       "\n",
       "Notes:\n",
       "[1] Standard Errors assume that the covariance matrix of the errors is correctly specified.\n",
       "\"\"\""
      ]
     },
     "execution_count": 61,
     "metadata": {},
     "output_type": "execute_result"
    }
   ],
   "source": [
    "model4 = sm.OLS(y_train,X_train_sm)\n",
    "res4 = model4.fit()\n",
    "res4.summary()"
   ]
  },
  {
   "cell_type": "code",
   "execution_count": 62,
   "metadata": {},
   "outputs": [
    {
     "data": {
      "text/html": [
       "<div>\n",
       "<style scoped>\n",
       "    .dataframe tbody tr th:only-of-type {\n",
       "        vertical-align: middle;\n",
       "    }\n",
       "\n",
       "    .dataframe tbody tr th {\n",
       "        vertical-align: top;\n",
       "    }\n",
       "\n",
       "    .dataframe thead th {\n",
       "        text-align: right;\n",
       "    }\n",
       "</style>\n",
       "<table border=\"1\" class=\"dataframe\">\n",
       "  <thead>\n",
       "    <tr style=\"text-align: right;\">\n",
       "      <th></th>\n",
       "      <th>Feature</th>\n",
       "      <th>VIF</th>\n",
       "    </tr>\n",
       "  </thead>\n",
       "  <tbody>\n",
       "    <tr>\n",
       "      <th>0</th>\n",
       "      <td>const</td>\n",
       "      <td>1.000000</td>\n",
       "    </tr>\n",
       "    <tr>\n",
       "      <th>1</th>\n",
       "      <td>spring</td>\n",
       "      <td>2.732655</td>\n",
       "    </tr>\n",
       "    <tr>\n",
       "      <th>2</th>\n",
       "      <td>winter</td>\n",
       "      <td>2.124999</td>\n",
       "    </tr>\n",
       "    <tr>\n",
       "      <th>3</th>\n",
       "      <td>January</td>\n",
       "      <td>1.550972</td>\n",
       "    </tr>\n",
       "    <tr>\n",
       "      <th>4</th>\n",
       "      <td>July</td>\n",
       "      <td>1.264552</td>\n",
       "    </tr>\n",
       "    <tr>\n",
       "      <th>5</th>\n",
       "      <td>November</td>\n",
       "      <td>1.438573</td>\n",
       "    </tr>\n",
       "    <tr>\n",
       "      <th>6</th>\n",
       "      <td>Light rain_Light snow_Thunderstorm</td>\n",
       "      <td>1.240648</td>\n",
       "    </tr>\n",
       "    <tr>\n",
       "      <th>7</th>\n",
       "      <td>Mist_cloudy</td>\n",
       "      <td>1.556224</td>\n",
       "    </tr>\n",
       "    <tr>\n",
       "      <th>8</th>\n",
       "      <td>yr</td>\n",
       "      <td>1.034769</td>\n",
       "    </tr>\n",
       "    <tr>\n",
       "      <th>9</th>\n",
       "      <td>workingday</td>\n",
       "      <td>1.014884</td>\n",
       "    </tr>\n",
       "    <tr>\n",
       "      <th>10</th>\n",
       "      <td>temp</td>\n",
       "      <td>3.160997</td>\n",
       "    </tr>\n",
       "    <tr>\n",
       "      <th>11</th>\n",
       "      <td>hum</td>\n",
       "      <td>1.882180</td>\n",
       "    </tr>\n",
       "    <tr>\n",
       "      <th>12</th>\n",
       "      <td>windspeed</td>\n",
       "      <td>1.188030</td>\n",
       "    </tr>\n",
       "  </tbody>\n",
       "</table>\n",
       "</div>"
      ],
      "text/plain": [
       "                               Feature       VIF\n",
       "0                                const  1.000000\n",
       "1                               spring  2.732655\n",
       "2                               winter  2.124999\n",
       "3                              January  1.550972\n",
       "4                                 July  1.264552\n",
       "5                             November  1.438573\n",
       "6   Light rain_Light snow_Thunderstorm  1.240648\n",
       "7                          Mist_cloudy  1.556224\n",
       "8                                   yr  1.034769\n",
       "9                           workingday  1.014884\n",
       "10                                temp  3.160997\n",
       "11                                 hum  1.882180\n",
       "12                           windspeed  1.188030"
      ]
     },
     "execution_count": 62,
     "metadata": {},
     "output_type": "execute_result"
    }
   ],
   "source": [
    "# Again checking VIF\n",
    "from statsmodels.stats.outliers_influence import variance_inflation_factor\n",
    "\n",
    "vif_data = pd.DataFrame()\n",
    "vif_data[\"Feature\"]=X_train_sm.columns\n",
    "\n",
    "vif_data[\"VIF\"]=[variance_inflation_factor(X_train_sm.values,i) for i in range(len(X_train_sm.columns))]\n",
    "vif_data"
   ]
  },
  {
   "cell_type": "code",
   "execution_count": 63,
   "metadata": {},
   "outputs": [],
   "source": [
    "X_train = X_train_sm.drop([\"workingday\"],axis=1)\n",
    "X_test = X_test_sm.drop([\"workingday\"],axis=1)"
   ]
  },
  {
   "cell_type": "code",
   "execution_count": 64,
   "metadata": {},
   "outputs": [],
   "source": [
    "X_train_sm = sm.add_constant(X_train)\n",
    "X_test_sm = sm.add_constant(X_test)"
   ]
  },
  {
   "cell_type": "code",
   "execution_count": 65,
   "metadata": {},
   "outputs": [
    {
     "data": {
      "text/html": [
       "<table class=\"simpletable\">\n",
       "<caption>OLS Regression Results</caption>\n",
       "<tr>\n",
       "  <th>Dep. Variable:</th>           <td>cnt</td>       <th>  R-squared:         </th> <td>   0.833</td> \n",
       "</tr>\n",
       "<tr>\n",
       "  <th>Model:</th>                   <td>OLS</td>       <th>  Adj. R-squared:    </th> <td>   0.829</td> \n",
       "</tr>\n",
       "<tr>\n",
       "  <th>Method:</th>             <td>Least Squares</td>  <th>  F-statistic:       </th> <td>   225.6</td> \n",
       "</tr>\n",
       "<tr>\n",
       "  <th>Date:</th>             <td>Wed, 10 May 2023</td> <th>  Prob (F-statistic):</th> <td>1.21e-185</td>\n",
       "</tr>\n",
       "<tr>\n",
       "  <th>Time:</th>                 <td>19:06:21</td>     <th>  Log-Likelihood:    </th> <td> -4140.0</td> \n",
       "</tr>\n",
       "<tr>\n",
       "  <th>No. Observations:</th>      <td>   511</td>      <th>  AIC:               </th> <td>   8304.</td> \n",
       "</tr>\n",
       "<tr>\n",
       "  <th>Df Residuals:</th>          <td>   499</td>      <th>  BIC:               </th> <td>   8355.</td> \n",
       "</tr>\n",
       "<tr>\n",
       "  <th>Df Model:</th>              <td>    11</td>      <th>                     </th>     <td> </td>    \n",
       "</tr>\n",
       "<tr>\n",
       "  <th>Covariance Type:</th>      <td>nonrobust</td>    <th>                     </th>     <td> </td>    \n",
       "</tr>\n",
       "</table>\n",
       "<table class=\"simpletable\">\n",
       "<tr>\n",
       "                   <td></td>                     <th>coef</th>     <th>std err</th>      <th>t</th>      <th>P>|t|</th>  <th>[0.025</th>    <th>0.975]</th>  \n",
       "</tr>\n",
       "<tr>\n",
       "  <th>const</th>                              <td> 4491.3033</td> <td>   35.747</td> <td>  125.641</td> <td> 0.000</td> <td> 4421.070</td> <td> 4561.537</td>\n",
       "</tr>\n",
       "<tr>\n",
       "  <th>spring</th>                             <td> -399.8312</td> <td>   59.138</td> <td>   -6.761</td> <td> 0.000</td> <td> -516.021</td> <td> -283.642</td>\n",
       "</tr>\n",
       "<tr>\n",
       "  <th>winter</th>                             <td>  230.4485</td> <td>   52.101</td> <td>    4.423</td> <td> 0.000</td> <td>  128.084</td> <td>  332.813</td>\n",
       "</tr>\n",
       "<tr>\n",
       "  <th>January</th>                            <td>  -96.8756</td> <td>   44.562</td> <td>   -2.174</td> <td> 0.030</td> <td> -184.428</td> <td>   -9.323</td>\n",
       "</tr>\n",
       "<tr>\n",
       "  <th>July</th>                               <td> -199.5358</td> <td>   40.210</td> <td>   -4.962</td> <td> 0.000</td> <td> -278.538</td> <td> -120.534</td>\n",
       "</tr>\n",
       "<tr>\n",
       "  <th>November</th>                           <td> -104.4789</td> <td>   42.917</td> <td>   -2.434</td> <td> 0.015</td> <td> -188.799</td> <td>  -20.159</td>\n",
       "</tr>\n",
       "<tr>\n",
       "  <th>Light rain_Light snow_Thunderstorm</th> <td> -351.4513</td> <td>   39.819</td> <td>   -8.826</td> <td> 0.000</td> <td> -429.684</td> <td> -273.219</td>\n",
       "</tr>\n",
       "<tr>\n",
       "  <th>Mist_cloudy</th>                        <td> -216.6461</td> <td>   44.586</td> <td>   -4.859</td> <td> 0.000</td> <td> -304.245</td> <td> -129.047</td>\n",
       "</tr>\n",
       "<tr>\n",
       "  <th>yr</th>                                 <td> 1007.3444</td> <td>   36.385</td> <td>   27.685</td> <td> 0.000</td> <td>  935.857</td> <td> 1078.832</td>\n",
       "</tr>\n",
       "<tr>\n",
       "  <th>temp</th>                               <td>  925.9346</td> <td>   63.596</td> <td>   14.560</td> <td> 0.000</td> <td>  800.985</td> <td> 1050.884</td>\n",
       "</tr>\n",
       "<tr>\n",
       "  <th>hum</th>                                <td> -194.9137</td> <td>   49.083</td> <td>   -3.971</td> <td> 0.000</td> <td> -291.349</td> <td>  -98.478</td>\n",
       "</tr>\n",
       "<tr>\n",
       "  <th>windspeed</th>                          <td> -270.0411</td> <td>   38.965</td> <td>   -6.930</td> <td> 0.000</td> <td> -346.598</td> <td> -193.484</td>\n",
       "</tr>\n",
       "</table>\n",
       "<table class=\"simpletable\">\n",
       "<tr>\n",
       "  <th>Omnibus:</th>       <td>67.870</td> <th>  Durbin-Watson:     </th> <td>   1.924</td>\n",
       "</tr>\n",
       "<tr>\n",
       "  <th>Prob(Omnibus):</th> <td> 0.000</td> <th>  Jarque-Bera (JB):  </th> <td> 174.904</td>\n",
       "</tr>\n",
       "<tr>\n",
       "  <th>Skew:</th>          <td>-0.671</td> <th>  Prob(JB):          </th> <td>1.05e-38</td>\n",
       "</tr>\n",
       "<tr>\n",
       "  <th>Kurtosis:</th>      <td> 5.533</td> <th>  Cond. No.          </th> <td>    3.71</td>\n",
       "</tr>\n",
       "</table><br/><br/>Notes:<br/>[1] Standard Errors assume that the covariance matrix of the errors is correctly specified."
      ],
      "text/plain": [
       "<class 'statsmodels.iolib.summary.Summary'>\n",
       "\"\"\"\n",
       "                            OLS Regression Results                            \n",
       "==============================================================================\n",
       "Dep. Variable:                    cnt   R-squared:                       0.833\n",
       "Model:                            OLS   Adj. R-squared:                  0.829\n",
       "Method:                 Least Squares   F-statistic:                     225.6\n",
       "Date:                Wed, 10 May 2023   Prob (F-statistic):          1.21e-185\n",
       "Time:                        19:06:21   Log-Likelihood:                -4140.0\n",
       "No. Observations:                 511   AIC:                             8304.\n",
       "Df Residuals:                     499   BIC:                             8355.\n",
       "Df Model:                          11                                         \n",
       "Covariance Type:            nonrobust                                         \n",
       "======================================================================================================\n",
       "                                         coef    std err          t      P>|t|      [0.025      0.975]\n",
       "------------------------------------------------------------------------------------------------------\n",
       "const                               4491.3033     35.747    125.641      0.000    4421.070    4561.537\n",
       "spring                              -399.8312     59.138     -6.761      0.000    -516.021    -283.642\n",
       "winter                               230.4485     52.101      4.423      0.000     128.084     332.813\n",
       "January                              -96.8756     44.562     -2.174      0.030    -184.428      -9.323\n",
       "July                                -199.5358     40.210     -4.962      0.000    -278.538    -120.534\n",
       "November                            -104.4789     42.917     -2.434      0.015    -188.799     -20.159\n",
       "Light rain_Light snow_Thunderstorm  -351.4513     39.819     -8.826      0.000    -429.684    -273.219\n",
       "Mist_cloudy                         -216.6461     44.586     -4.859      0.000    -304.245    -129.047\n",
       "yr                                  1007.3444     36.385     27.685      0.000     935.857    1078.832\n",
       "temp                                 925.9346     63.596     14.560      0.000     800.985    1050.884\n",
       "hum                                 -194.9137     49.083     -3.971      0.000    -291.349     -98.478\n",
       "windspeed                           -270.0411     38.965     -6.930      0.000    -346.598    -193.484\n",
       "==============================================================================\n",
       "Omnibus:                       67.870   Durbin-Watson:                   1.924\n",
       "Prob(Omnibus):                  0.000   Jarque-Bera (JB):              174.904\n",
       "Skew:                          -0.671   Prob(JB):                     1.05e-38\n",
       "Kurtosis:                       5.533   Cond. No.                         3.71\n",
       "==============================================================================\n",
       "\n",
       "Notes:\n",
       "[1] Standard Errors assume that the covariance matrix of the errors is correctly specified.\n",
       "\"\"\""
      ]
     },
     "execution_count": 65,
     "metadata": {},
     "output_type": "execute_result"
    }
   ],
   "source": [
    "model5 = sm.OLS(y_train,X_train_sm)\n",
    "res5 = model5.fit()\n",
    "res5.summary()"
   ]
  },
  {
   "cell_type": "code",
   "execution_count": 66,
   "metadata": {},
   "outputs": [
    {
     "data": {
      "text/html": [
       "<div>\n",
       "<style scoped>\n",
       "    .dataframe tbody tr th:only-of-type {\n",
       "        vertical-align: middle;\n",
       "    }\n",
       "\n",
       "    .dataframe tbody tr th {\n",
       "        vertical-align: top;\n",
       "    }\n",
       "\n",
       "    .dataframe thead th {\n",
       "        text-align: right;\n",
       "    }\n",
       "</style>\n",
       "<table border=\"1\" class=\"dataframe\">\n",
       "  <thead>\n",
       "    <tr style=\"text-align: right;\">\n",
       "      <th></th>\n",
       "      <th>Feature</th>\n",
       "      <th>VIF</th>\n",
       "    </tr>\n",
       "  </thead>\n",
       "  <tbody>\n",
       "    <tr>\n",
       "      <th>0</th>\n",
       "      <td>const</td>\n",
       "      <td>1.000000</td>\n",
       "    </tr>\n",
       "    <tr>\n",
       "      <th>1</th>\n",
       "      <td>spring</td>\n",
       "      <td>2.731470</td>\n",
       "    </tr>\n",
       "    <tr>\n",
       "      <th>2</th>\n",
       "      <td>winter</td>\n",
       "      <td>2.120111</td>\n",
       "    </tr>\n",
       "    <tr>\n",
       "      <th>3</th>\n",
       "      <td>January</td>\n",
       "      <td>1.550970</td>\n",
       "    </tr>\n",
       "    <tr>\n",
       "      <th>4</th>\n",
       "      <td>July</td>\n",
       "      <td>1.262812</td>\n",
       "    </tr>\n",
       "    <tr>\n",
       "      <th>5</th>\n",
       "      <td>November</td>\n",
       "      <td>1.438550</td>\n",
       "    </tr>\n",
       "    <tr>\n",
       "      <th>6</th>\n",
       "      <td>Light rain_Light snow_Thunderstorm</td>\n",
       "      <td>1.238341</td>\n",
       "    </tr>\n",
       "    <tr>\n",
       "      <th>7</th>\n",
       "      <td>Mist_cloudy</td>\n",
       "      <td>1.552597</td>\n",
       "    </tr>\n",
       "    <tr>\n",
       "      <th>8</th>\n",
       "      <td>yr</td>\n",
       "      <td>1.034000</td>\n",
       "    </tr>\n",
       "    <tr>\n",
       "      <th>9</th>\n",
       "      <td>temp</td>\n",
       "      <td>3.158873</td>\n",
       "    </tr>\n",
       "    <tr>\n",
       "      <th>10</th>\n",
       "      <td>hum</td>\n",
       "      <td>1.881645</td>\n",
       "    </tr>\n",
       "    <tr>\n",
       "      <th>11</th>\n",
       "      <td>windspeed</td>\n",
       "      <td>1.185847</td>\n",
       "    </tr>\n",
       "  </tbody>\n",
       "</table>\n",
       "</div>"
      ],
      "text/plain": [
       "                               Feature       VIF\n",
       "0                                const  1.000000\n",
       "1                               spring  2.731470\n",
       "2                               winter  2.120111\n",
       "3                              January  1.550970\n",
       "4                                 July  1.262812\n",
       "5                             November  1.438550\n",
       "6   Light rain_Light snow_Thunderstorm  1.238341\n",
       "7                          Mist_cloudy  1.552597\n",
       "8                                   yr  1.034000\n",
       "9                                 temp  3.158873\n",
       "10                                 hum  1.881645\n",
       "11                           windspeed  1.185847"
      ]
     },
     "execution_count": 66,
     "metadata": {},
     "output_type": "execute_result"
    }
   ],
   "source": [
    "# Again checking VIF\n",
    "from statsmodels.stats.outliers_influence import variance_inflation_factor\n",
    "\n",
    "vif_data = pd.DataFrame()\n",
    "vif_data[\"Feature\"]=X_train.columns\n",
    "\n",
    "vif_data[\"VIF\"]=[variance_inflation_factor(X_train.values,i) for i in range(len(X_train.columns))]\n",
    "vif_data"
   ]
  },
  {
   "cell_type": "code",
   "execution_count": null,
   "metadata": {},
   "outputs": [],
   "source": []
  },
  {
   "cell_type": "markdown",
   "metadata": {},
   "source": [
    "#### `_Inference`_\n",
    "Here VIF seems to be almost accepted. p-value for all the features is  almost 0.0 and R2 is 0.847 \n",
    "Let us select Model 3 as our final as it has all important statistics high (R-square, Adjusted R-squared and F-statistic), along with no insignificant variables and no multi coliinear (high VIF) variables. \n",
    "Difference between R-squared and Adjusted R-squared values for this model is veryless, which also means that there are no additional parameters that can be removed from this model."
   ]
  },
  {
   "cell_type": "code",
   "execution_count": 67,
   "metadata": {},
   "outputs": [],
   "source": [
    "#Build a model with all columns to select features automatically\n",
    "def build_model_sk(X,y):\n",
    "    lr1 = LinearRegression()\n",
    "    lr1.fit(X,y)\n",
    "    return lr1"
   ]
  },
  {
   "cell_type": "code",
   "execution_count": 68,
   "metadata": {},
   "outputs": [
    {
     "name": "stdout",
     "output_type": "stream",
     "text": [
      "4491.3033268101735 [-399.8311945   230.44849412  -96.87559188 -199.53582454 -104.47890842\n",
      " -351.45134656 -216.64613523 1007.34436031  925.93460106 -194.91366279\n",
      " -270.0410619 ]\n"
     ]
    }
   ],
   "source": [
    "#Let us build the finalmodel using sklearn\n",
    "cols = ['spring', 'winter', 'January',\n",
    "        'July', 'November', 'Light rain_Light snow_Thunderstorm', \n",
    "        'Mist_cloudy', 'yr', \n",
    "        'temp', 'hum',\n",
    "        'windspeed']\n",
    "\n",
    "#Build a model with above columns\n",
    "lr = build_model_sk(X_train[cols],y_train)\n",
    "print(lr.intercept_,lr.coef_)"
   ]
  },
  {
   "cell_type": "code",
   "execution_count": 69,
   "metadata": {},
   "outputs": [],
   "source": [
    "y_train_pred = lr.predict(X_train[cols])"
   ]
  },
  {
   "cell_type": "code",
   "execution_count": 70,
   "metadata": {},
   "outputs": [],
   "source": [
    "#Plot a histogram of the error terms\n",
    "def plot_res_dist(act, pred):\n",
    "    sns.distplot(act-pred)\n",
    "    plt.title('Error Terms')\n",
    "    plt.xlabel('Errors')"
   ]
  },
  {
   "cell_type": "code",
   "execution_count": 71,
   "metadata": {},
   "outputs": [
    {
     "data": {
      "image/png": "[encoded data removed]",
      "text/plain": [
       "<Figure size 640x480 with 1 Axes>"
      ]
     },
     "metadata": {},
     "output_type": "display_data"
    }
   ],
   "source": [
    "plot_res_dist(y_train, y_train_pred)"
   ]
  },
  {
   "cell_type": "markdown",
   "metadata": {},
   "source": [
    "#### Errors are normally distribured here with mean 0. So everything seems to be fine"
   ]
  },
  {
   "cell_type": "markdown",
   "metadata": {
    "id": "bN6PSsBtRuIU"
   },
   "source": [
    "## MODEL IS READY TO USE"
   ]
  },
  {
   "cell_type": "code",
   "execution_count": 72,
   "metadata": {
    "id": "z10znCI6R_oJ"
   },
   "outputs": [],
   "source": [
    "# Importing Libraries to calculate r square, train as well as test performance\n",
    "from sklearn.metrics import r2_score"
   ]
  },
  {
   "cell_type": "code",
   "execution_count": 73,
   "metadata": {
    "colab": {
     "base_uri": "https://localhost:8080/"
    },
    "id": "RiWdFYmZSV_H",
    "outputId": "c61ba4ab-9f90-4a50-baf0-e6fcae1a0565"
   },
   "outputs": [
    {
     "name": "stdout",
     "output_type": "stream",
     "text": [
      "Test Performance: 81.13 %\n"
     ]
    }
   ],
   "source": [
    "# R-Square of Test Data\n",
    "predicted_value = res5.predict(X_test_sm)\n",
    "print(\"Test Performance:\",round(r2_score(y_test, predicted_value)*100,2),\"%\")"
   ]
  },
  {
   "cell_type": "code",
   "execution_count": 74,
   "metadata": {},
   "outputs": [
    {
     "name": "stdout",
     "output_type": "stream",
     "text": [
      "Train Performance: 83.26 %\n"
     ]
    }
   ],
   "source": [
    "# R-Square of Train Data\n",
    "predicted_value1 = res5.predict(X_train_sm)\n",
    "print(\"Train Performance:\",round(r2_score(y_train, predicted_value1)*100,2),\"%\")"
   ]
  },
  {
   "cell_type": "code",
   "execution_count": 75,
   "metadata": {},
   "outputs": [
    {
     "name": "stdout",
     "output_type": "stream",
     "text": [
      "Adjusted R-Squared: 80.04 %\n"
     ]
    }
   ],
   "source": [
    "# Calculating Adjusted-R^2 value for the test dataset\n",
    "adjusted_r2 = round((1 - (1 - r2_score(y_test, predicted_value)) * (X_test.shape[0] - 1) / (X_test.shape[0] - X_test.shape[1] - 1)) * 100, 2)\n",
    "print(f\"Adjusted R-Squared: {adjusted_r2} %\")\n"
   ]
  },
  {
   "cell_type": "markdown",
   "metadata": {
    "id": "xHnZ8bEJR3IY"
   },
   "source": [
    "# **CONCLUSION**"
   ]
  },
  {
   "cell_type": "markdown",
   "metadata": {},
   "source": [
    "### Analysing the above model, the comapany should focus on the following features:\n",
    "- Company should focus on expanding business during 'spring' and 'winter'.\n",
    "- Company should focus on expanding business during July,November,January.\n",
    "- Based on previous data it is expected to have a boom in number of users once situation comes back to normal, compared to 2019.\n",
    "- There would be less bookings during Light Snow or Rain, they could probably use this time to serive the bikes without having business impact.\n",
    "\n",
    "#### Hence when the situation comes back to normal, the company should come up with new offers during season_3 when the weather is pleasant and also advertise a little for mnth_8 to mnth_10 as this is when business would be at its best."
   ]
  }
 ],
 "metadata": {
  "colab": {
   "provenance": []
  },
  "kernelspec": {
   "display_name": "Python 3 (ipykernel)",
   "language": "python",
   "name": "python3"
  },
  "language_info": {
   "codemirror_mode": {
    "name": "ipython",
    "version": 3
   },
   "file_extension": ".py",
   "mimetype": "text/x-python",
   "name": "python",
   "nbconvert_exporter": "python",
   "pygments_lexer": "ipython3",
   "version": "3.9.13"
  }
 },
 "nbformat": 4,
 "nbformat_minor": 1
}
